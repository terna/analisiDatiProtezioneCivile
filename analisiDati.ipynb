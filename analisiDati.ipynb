{
 "cells": [
  {
   "cell_type": "markdown",
   "metadata": {},
   "source": [
    "### Analysis of Piedmont data, by Pietro Terna$^1$ and Stefano Terna$^2$  \n",
    "$^1$ Univerity of Torino, Italy (retired) & Collegio Carlo Alberto, Italy  \n",
    "$^2$ PhD, [tomorrowdata.io](https://tomorrowdata.io)"
   ]
  },
  {
   "cell_type": "markdown",
   "metadata": {},
   "source": [
    "base of tth data https://github.com/pcm-dpc/COVID-19\n",
    "\n",
    "definitions https://github.com/pcm-dpc/COVID-19/blob/master/dati-andamento-covid19-italia.md#dati-per-regione"
   ]
  },
  {
   "cell_type": "code",
   "execution_count": 1,
   "metadata": {},
   "outputs": [],
   "source": [
    "import pandas as pd\n",
    "from datetime import datetime\n",
    "\n",
    "def parse_date(date):\n",
    "    return datetime.strptime(date[:10], '%Y-%m-%d')\n",
    "\n",
    "regions_raw_data = pd.read_csv(\n",
    "    'https://raw.githubusercontent.com/pcm-dpc/COVID-19/master/dati-regioni/dpc-covid19-ita-regioni.csv',\n",
    "    parse_dates=['data'],\n",
    "    date_parser=parse_date)\n",
    "\n",
    "Piedmont_raw_data=regions_raw_data[regions_raw_data.denominazione_regione=='Piemonte']\n",
    "Piedmont_raw_data=Piedmont_raw_data.rename(columns = {'data': 'dates'},inplace = False)\n"
   ]
  },
  {
   "cell_type": "code",
   "execution_count": 2,
   "metadata": {},
   "outputs": [
    {
     "data": {
      "text/plain": [
       "Index(['dates', 'stato', 'codice_regione', 'denominazione_regione', 'lat',\n",
       "       'long', 'ricoverati_con_sintomi', 'terapia_intensiva',\n",
       "       'totale_ospedalizzati', 'isolamento_domiciliare', 'totale_positivi',\n",
       "       'variazione_totale_positivi', 'nuovi_positivi', 'dimessi_guariti',\n",
       "       'deceduti', 'casi_da_sospetto_diagnostico', 'casi_da_screening',\n",
       "       'totale_casi', 'tamponi', 'casi_testati', 'note'],\n",
       "      dtype='object')"
      ]
     },
     "execution_count": 2,
     "metadata": {},
     "output_type": "execute_result"
    }
   ],
   "source": [
    "Piedmont_raw_data.columns"
   ]
  },
  {
   "cell_type": "markdown",
   "metadata": {},
   "source": [
    "# definitions\n",
    "### from the [Protezione Civile](https://github.com/pcm-dpc/COVID-19/blob/master/dati-andamento-covid19-italia.md#dati-per-regione) web site [in square brakets my addenda]   \n",
    "   \n",
    "**ricoverati_con_sintomi**  \n",
    "Ricoverati con sintomi - Hospitalised patients with symptoms  \n",
    "\n",
    "**terapia_intensiva**  \n",
    "Ricoverati in terapia intensiva\t- Intensive Care  \n",
    "  \n",
    "**totale_ospedalizzati**  \n",
    "Totale ospedalizzati - Total hospitalised patients  \n",
    "  \n",
    "**isolamento_domiciliare**  \n",
    "Persone in isolamento domiciliare\tHome confinement  \n",
    "  \n",
    "**totale_positivi** [stock in a given day]  \n",
    "Totale attualmente positivi (ospedalizzati + isolamento domiciliare) - Total amount of current positive cases (Hospitalised patients + Home confinement)  \n",
    "  \n",
    "**variazione_totale_positivi** [first difference of totale_positivi]  \n",
    "Variazione del totale positivi (totale_positivi giorno corrente - totale_positivi giorno precedente) - News amount of current positive cases (totale_positivi current day - totale_positivi previous day)  \n",
    "  \n",
    "**nuovi_positivi** [first difference of totale_casi]    \n",
    "Nuovi attualmente positivi (totale_casi giorno corrente - totale_casi giorno precedente) - News amount of current positive cases (totale_casi current day - totale_casi previous day)  \n",
    "  \n",
    "**dimessi_guariti**  \n",
    "Persone dimesse guarite - Recovered  \n",
    "  \n",
    "**deceduti**  \n",
    "Persone decedute - Death  \n",
    "  \n",
    "**casi_da_sospetto_diagnostico**  \n",
    "Casi positivi al tampone emersi da attività clinica - Positive cases emerged from clinical activity  \n",
    "  \n",
    "**casi_da_screening**  \n",
    "Casi positivi emersi da indagini e test, pianificati a livello nazionale o regionale - Positive cases emerging from surveys and tests, planned at national or regional level  \n",
    "  \n",
    "**totale_casi** [cumulative value]  \n",
    "  Totale casi positivi - Total amount of positive cases  \n",
    "  \n",
    "**tamponi**  \n",
    "Totale tamponi - Tests performed  \n",
    "  \n",
    "**casi_testati**  \n",
    "Totale dei soggetti sottoposti al test\tTotal number of people tested  \n",
    "\n"
   ]
  },
  {
   "cell_type": "markdown",
   "metadata": {},
   "source": [
    "# examples and verifications"
   ]
  },
  {
   "cell_type": "code",
   "execution_count": 3,
   "metadata": {},
   "outputs": [
    {
     "data": {
      "text/html": [
       "<div>\n",
       "<style scoped>\n",
       "    .dataframe tbody tr th:only-of-type {\n",
       "        vertical-align: middle;\n",
       "    }\n",
       "\n",
       "    .dataframe tbody tr th {\n",
       "        vertical-align: top;\n",
       "    }\n",
       "\n",
       "    .dataframe thead th {\n",
       "        text-align: right;\n",
       "    }\n",
       "</style>\n",
       "<table border=\"1\" class=\"dataframe\">\n",
       "  <thead>\n",
       "    <tr style=\"text-align: right;\">\n",
       "      <th></th>\n",
       "      <th>dates</th>\n",
       "      <th>ricoverati_con_sintomi</th>\n",
       "      <th>terapia_intensiva</th>\n",
       "      <th>totale_ospedalizzati</th>\n",
       "      <th>isolamento_domiciliare</th>\n",
       "      <th>totale_positivi</th>\n",
       "      <th>variazione_totale_positivi</th>\n",
       "      <th>nuovi_positivi</th>\n",
       "      <th>dimessi_guariti</th>\n",
       "      <th>deceduti</th>\n",
       "      <th>casi_da_sospetto_diagnostico</th>\n",
       "      <th>casi_da_screening</th>\n",
       "      <th>totale_casi</th>\n",
       "      <th>tamponi</th>\n",
       "      <th>casi_testati</th>\n",
       "    </tr>\n",
       "  </thead>\n",
       "  <tbody>\n",
       "    <tr>\n",
       "      <th>1483</th>\n",
       "      <td>2020-05-04</td>\n",
       "      <td>2391</td>\n",
       "      <td>161</td>\n",
       "      <td>2552</td>\n",
       "      <td>13010</td>\n",
       "      <td>15562</td>\n",
       "      <td>-76</td>\n",
       "      <td>192</td>\n",
       "      <td>8874</td>\n",
       "      <td>3186</td>\n",
       "      <td>NaN</td>\n",
       "      <td>NaN</td>\n",
       "      <td>27622</td>\n",
       "      <td>176078</td>\n",
       "      <td>123801.0</td>\n",
       "    </tr>\n",
       "    <tr>\n",
       "      <th>1504</th>\n",
       "      <td>2020-05-05</td>\n",
       "      <td>2307</td>\n",
       "      <td>155</td>\n",
       "      <td>2462</td>\n",
       "      <td>12861</td>\n",
       "      <td>15323</td>\n",
       "      <td>-239</td>\n",
       "      <td>152</td>\n",
       "      <td>9235</td>\n",
       "      <td>3216</td>\n",
       "      <td>NaN</td>\n",
       "      <td>NaN</td>\n",
       "      <td>27774</td>\n",
       "      <td>181316</td>\n",
       "      <td>126685.0</td>\n",
       "    </tr>\n",
       "  </tbody>\n",
       "</table>\n",
       "</div>"
      ],
      "text/plain": [
       "          dates  ricoverati_con_sintomi  terapia_intensiva  \\\n",
       "1483 2020-05-04                    2391                161   \n",
       "1504 2020-05-05                    2307                155   \n",
       "\n",
       "      totale_ospedalizzati  isolamento_domiciliare  totale_positivi  \\\n",
       "1483                  2552                   13010            15562   \n",
       "1504                  2462                   12861            15323   \n",
       "\n",
       "      variazione_totale_positivi  nuovi_positivi  dimessi_guariti  deceduti  \\\n",
       "1483                         -76             192             8874      3186   \n",
       "1504                        -239             152             9235      3216   \n",
       "\n",
       "      casi_da_sospetto_diagnostico  casi_da_screening  totale_casi  tamponi  \\\n",
       "1483                           NaN                NaN        27622   176078   \n",
       "1504                           NaN                NaN        27774   181316   \n",
       "\n",
       "      casi_testati  \n",
       "1483      123801.0  \n",
       "1504      126685.0  "
      ]
     },
     "execution_count": 3,
     "metadata": {},
     "output_type": "execute_result"
    }
   ],
   "source": [
    "# beginning of May\n",
    "Piedmont_raw_data[70:72][['dates','ricoverati_con_sintomi', 'terapia_intensiva',\n",
    "       'totale_ospedalizzati', 'isolamento_domiciliare', 'totale_positivi',\n",
    "       'variazione_totale_positivi', 'nuovi_positivi', 'dimessi_guariti',\n",
    "       'deceduti', 'casi_da_sospetto_diagnostico', 'casi_da_screening',\n",
    "       'totale_casi', 'tamponi', 'casi_testati']].head()"
   ]
  },
  {
   "cell_type": "code",
   "execution_count": 4,
   "metadata": {},
   "outputs": [
    {
     "data": {
      "text/plain": [
       "15562"
      ]
     },
     "execution_count": 4,
     "metadata": {},
     "output_type": "execute_result"
    }
   ],
   "source": [
    "# verification 'totale_positivi'='ricoverati_con_sintomi'+'terapia_intensiva'+'isolamento_domiciliare'\n",
    "2391+161+13010"
   ]
  },
  {
   "cell_type": "code",
   "execution_count": 5,
   "metadata": {},
   "outputs": [
    {
     "data": {
      "text/plain": [
       "27622"
      ]
     },
     "execution_count": 5,
     "metadata": {},
     "output_type": "execute_result"
    }
   ],
   "source": [
    "# verification 'totale_casi'='totale_positivi'+'dimessi_guariti'+'deceduti'\n",
    "15562+8874+3186"
   ]
  },
  {
   "cell_type": "code",
   "execution_count": 6,
   "metadata": {},
   "outputs": [
    {
     "data": {
      "text/html": [
       "<div>\n",
       "<style scoped>\n",
       "    .dataframe tbody tr th:only-of-type {\n",
       "        vertical-align: middle;\n",
       "    }\n",
       "\n",
       "    .dataframe tbody tr th {\n",
       "        vertical-align: top;\n",
       "    }\n",
       "\n",
       "    .dataframe thead th {\n",
       "        text-align: right;\n",
       "    }\n",
       "</style>\n",
       "<table border=\"1\" class=\"dataframe\">\n",
       "  <thead>\n",
       "    <tr style=\"text-align: right;\">\n",
       "      <th></th>\n",
       "      <th>dates</th>\n",
       "      <th>ricoverati_con_sintomi</th>\n",
       "      <th>terapia_intensiva</th>\n",
       "      <th>totale_ospedalizzati</th>\n",
       "      <th>isolamento_domiciliare</th>\n",
       "      <th>totale_positivi</th>\n",
       "      <th>variazione_totale_positivi</th>\n",
       "      <th>nuovi_positivi</th>\n",
       "      <th>dimessi_guariti</th>\n",
       "      <th>deceduti</th>\n",
       "      <th>casi_da_sospetto_diagnostico</th>\n",
       "      <th>casi_da_screening</th>\n",
       "      <th>totale_casi</th>\n",
       "      <th>tamponi</th>\n",
       "      <th>casi_testati</th>\n",
       "    </tr>\n",
       "  </thead>\n",
       "  <tbody>\n",
       "    <tr>\n",
       "      <th>5305</th>\n",
       "      <td>2020-11-02</td>\n",
       "      <td>3108</td>\n",
       "      <td>196</td>\n",
       "      <td>3304</td>\n",
       "      <td>32791</td>\n",
       "      <td>36095</td>\n",
       "      <td>1681</td>\n",
       "      <td>2003</td>\n",
       "      <td>34153</td>\n",
       "      <td>4415</td>\n",
       "      <td>34275.0</td>\n",
       "      <td>40388.0</td>\n",
       "      <td>74663</td>\n",
       "      <td>1050421</td>\n",
       "      <td>652762.0</td>\n",
       "    </tr>\n",
       "  </tbody>\n",
       "</table>\n",
       "</div>"
      ],
      "text/plain": [
       "          dates  ricoverati_con_sintomi  terapia_intensiva  \\\n",
       "5305 2020-11-02                    3108                196   \n",
       "\n",
       "      totale_ospedalizzati  isolamento_domiciliare  totale_positivi  \\\n",
       "5305                  3304                   32791            36095   \n",
       "\n",
       "      variazione_totale_positivi  nuovi_positivi  dimessi_guariti  deceduti  \\\n",
       "5305                        1681            2003            34153      4415   \n",
       "\n",
       "      casi_da_sospetto_diagnostico  casi_da_screening  totale_casi  tamponi  \\\n",
       "5305                       34275.0            40388.0        74663  1050421   \n",
       "\n",
       "      casi_testati  \n",
       "5305      652762.0  "
      ]
     },
     "execution_count": 6,
     "metadata": {},
     "output_type": "execute_result"
    }
   ],
   "source": [
    "# beginning of November\n",
    "Piedmont_raw_data[252:253][['dates','ricoverati_con_sintomi', 'terapia_intensiva',\n",
    "       'totale_ospedalizzati', 'isolamento_domiciliare', 'totale_positivi',\n",
    "       'variazione_totale_positivi', 'nuovi_positivi', 'dimessi_guariti',\n",
    "       'deceduti', 'casi_da_sospetto_diagnostico', 'casi_da_screening',\n",
    "       'totale_casi', 'tamponi', 'casi_testati']].head()"
   ]
  },
  {
   "cell_type": "code",
   "execution_count": 7,
   "metadata": {},
   "outputs": [
    {
     "data": {
      "text/plain": [
       "36095"
      ]
     },
     "execution_count": 7,
     "metadata": {},
     "output_type": "execute_result"
    }
   ],
   "source": [
    "# verification 'totale_positivi'='ricoverati_con_sintomi'+'terapia_intensiva'+'isolamento_domiciliare'\n",
    "3108+196+32791"
   ]
  },
  {
   "cell_type": "code",
   "execution_count": 8,
   "metadata": {},
   "outputs": [
    {
     "data": {
      "text/plain": [
       "74663"
      ]
     },
     "execution_count": 8,
     "metadata": {},
     "output_type": "execute_result"
    }
   ],
   "source": [
    "# verification 'totale_casi'='totale_positivi'+'dimessi_guariti'+'deceduti'\n",
    "36095+34153+4415"
   ]
  },
  {
   "cell_type": "code",
   "execution_count": 9,
   "metadata": {},
   "outputs": [
    {
     "data": {
      "text/plain": [
       "74663"
      ]
     },
     "execution_count": 9,
     "metadata": {},
     "output_type": "execute_result"
    }
   ],
   "source": [
    "# but also\n",
    "# verification 'totale_casi'='casi_da_sospetto_diagnostico'+'casi_da_screening'\n",
    "34275+40388"
   ]
  },
  {
   "cell_type": "markdown",
   "metadata": {},
   "source": [
    "# Figure 1  \n",
    "  \n",
    "  \n",
    "The introduction of 'casi_da_screening' deeply modifies 'totale_casi' count:   \n",
    "  \n",
    "(i) the overrepresentation of positive cases in the tested subjects, due to their charactestics (subject with specific risk profiles);  \n",
    "  \n",
    "(ii) tracking screening cases necessarily we find asymptomatic positive persons that in the first phase of the epidemic were not accounted."
   ]
  },
  {
   "cell_type": "code",
   "execution_count": 10,
   "metadata": {},
   "outputs": [
    {
     "data": {
      "text/plain": [
       "<AxesSubplot:title={'center':'Figure 1'}, xlabel='dates'>"
      ]
     },
     "execution_count": 10,
     "metadata": {},
     "output_type": "execute_result"
    },
    {
     "data": {
      "image/png": "[encoded data removed]",
      "text/plain": [
       "<Figure size 432x288 with 1 Axes>"
      ]
     },
     "metadata": {
      "needs_background": "light"
     },
     "output_type": "display_data"
    }
   ],
   "source": [
    "Piedmont_raw_data.plot(x='dates',y=['casi_da_sospetto_diagnostico','casi_da_screening',\n",
    "                                    'totale_positivi','totale_casi'], title=\"Figure 1\")"
   ]
  },
  {
   "cell_type": "markdown",
   "metadata": {},
   "source": [
    "# Figure 2"
   ]
  },
  {
   "cell_type": "code",
   "execution_count": 11,
   "metadata": {},
   "outputs": [],
   "source": [
    "Piedmont_raw_data['totale_casi_no_casi_da_screening']=Piedmont_raw_data['totale_casi'] - \\\n",
    "                                          Piedmont_raw_data['casi_da_screening'].fillna(0)"
   ]
  },
  {
   "cell_type": "code",
   "execution_count": 12,
   "metadata": {
    "scrolled": true
   },
   "outputs": [
    {
     "data": {
      "text/plain": [
       "<AxesSubplot:title={'center':'Figure 2'}, xlabel='dates'>"
      ]
     },
     "execution_count": 12,
     "metadata": {},
     "output_type": "execute_result"
    },
    {
     "data": {
      "image/png": "[encoded data removed]",
      "text/plain": [
       "<Figure size 432x288 with 1 Axes>"
      ]
     },
     "metadata": {
      "needs_background": "light"
     },
     "output_type": "display_data"
    }
   ],
   "source": [
    "Piedmont_raw_data.plot(x='dates',y=['totale_positivi','totale_casi_no_casi_da_screening'], \n",
    "                       title=\"Figure 2\")"
   ]
  },
  {
   "cell_type": "markdown",
   "metadata": {},
   "source": [
    "# Try to understand the discontinuity, in Figure 2:\n",
    "### the break is at day 2020-06-03 with 3324 'casi_da_screening'  probably included, with similar amounts, in a segment of the previous days"
   ]
  },
  {
   "cell_type": "code",
   "execution_count": 13,
   "metadata": {},
   "outputs": [
    {
     "name": "stdout",
     "output_type": "stream",
     "text": [
      "2020-06-03 2290 24840 4032 31162     0    0 31162\n",
      "2020-06-03 2178 24971 4039 31188     0    0 31188\n",
      "2020-06-03 2088 25082 4045 31215     0    0 31215\n",
      "2020-06-03 2013 25177 4051 31241     0    0 31241\n",
      "2020-06-03 1970 25223 4055 31248     0    0 31248\n",
      "2020-06-03 1870 25325 4059 31254     0    0 31254\n",
      "2020-06-03 1730 25480 4066 31276     0    0 31276\n",
      "2020-06-03 1681 25544 4071 31296 27972 3324 27972\n",
      "2020-06-03 1585 25649 4077 31311 27693 3618 27693\n",
      "2020-06-03 1503 25739 4080 31322 27491 3831 27491\n",
      "2020-06-03 1495 25756 4085 31336 27436 3900 27436\n",
      "2020-06-03 1490 25761 4087 31338 27422 3916 27422\n",
      "2020-06-03 1423 25836 4090 31349 27273 4076 27273\n",
      "2020-06-03 1353 25921 4091 31365 27132 4233 27132\n",
      "2020-06-03 1299 25983 4096 31378 26969 4409 26969\n"
     ]
    }
   ],
   "source": [
    "for i in range(115,130):\n",
    "\n",
    "    print(\"%.10s %d %d %d %d %5d %4d %d\" % (Piedmont_raw_data[100:130][['dates']].values[0][0], \n",
    "Piedmont_raw_data[i:i+1][['totale_positivi']].values[0][0],\n",
    "Piedmont_raw_data[i:i+1][['dimessi_guariti']].values[0][0],\n",
    "Piedmont_raw_data[i:i+1][['deceduti']].values[0][0],\n",
    "Piedmont_raw_data[i:i+1][['totale_casi']].values[0][0],\n",
    "Piedmont_raw_data[i:i+1][['casi_da_sospetto_diagnostico']].fillna(0).values[0][0],\n",
    "Piedmont_raw_data[i:i+1][['casi_da_screening']].fillna(0).values[0][0],\n",
    "Piedmont_raw_data[i:i+1][['totale_casi_no_casi_da_screening']].fillna(0).values[0][0]                                            \n",
    "))\n"
   ]
  },
  {
   "cell_type": "markdown",
   "metadata": {},
   "source": [
    "# Figure 2b"
   ]
  },
  {
   "cell_type": "code",
   "execution_count": 14,
   "metadata": {},
   "outputs": [],
   "source": [
    "Piedmont_raw_data['correction']=\\\n",
    "Piedmont_raw_data['casi_da_screening'].fillna(0).where(Piedmont_raw_data['casi_da_screening'].fillna(0)\n",
    "                                                      ==0, 3324)\n",
    "\n",
    "Piedmont_raw_data['totale_casi_no_casi_da_screening_coor']=\\\n",
    "Piedmont_raw_data['totale_casi'] - Piedmont_raw_data['casi_da_screening'].fillna(0) + \\\n",
    "Piedmont_raw_data['correction']"
   ]
  },
  {
   "cell_type": "code",
   "execution_count": 15,
   "metadata": {},
   "outputs": [
    {
     "data": {
      "text/plain": [
       "<AxesSubplot:title={'center':'Figure 2b'}, xlabel='dates'>"
      ]
     },
     "execution_count": 15,
     "metadata": {},
     "output_type": "execute_result"
    },
    {
     "data": {
      "image/png": "[encoded data removed]",
      "text/plain": [
       "<Figure size 432x288 with 1 Axes>"
      ]
     },
     "metadata": {
      "needs_background": "light"
     },
     "output_type": "display_data"
    }
   ],
   "source": [
    "Piedmont_raw_data.plot(x='dates',y=['totale_positivi','totale_casi_no_casi_da_screening_coor',\n",
    "                                  'correction' ], \n",
    "                       title=\"Figure 2b\")"
   ]
  },
  {
   "cell_type": "markdown",
   "metadata": {},
   "source": [
    "# Figure 3"
   ]
  },
  {
   "cell_type": "code",
   "execution_count": 16,
   "metadata": {},
   "outputs": [
    {
     "data": {
      "text/plain": [
       "<AxesSubplot:title={'center':'Figure 3'}, xlabel='dates'>"
      ]
     },
     "execution_count": 16,
     "metadata": {},
     "output_type": "execute_result"
    },
    {
     "data": {
      "image/png": "[encoded data removed]",
      "text/plain": [
       "<Figure size 432x288 with 1 Axes>"
      ]
     },
     "metadata": {
      "needs_background": "light"
     },
     "output_type": "display_data"
    }
   ],
   "source": [
    "Piedmont_raw_data.plot(x='dates',y=['casi_da_screening',\n",
    "                                    'tamponi', 'casi_testati'], title=\"Figure 3\")"
   ]
  },
  {
   "cell_type": "markdown",
   "metadata": {},
   "source": [
    "# Ratios    \n",
    "### casi_da_screening' / 'casi_testati' with a delay"
   ]
  },
  {
   "cell_type": "code",
   "execution_count": 17,
   "metadata": {},
   "outputs": [
    {
     "data": {
      "text/html": [
       "<div>\n",
       "<style scoped>\n",
       "    .dataframe tbody tr th:only-of-type {\n",
       "        vertical-align: middle;\n",
       "    }\n",
       "\n",
       "    .dataframe tbody tr th {\n",
       "        vertical-align: top;\n",
       "    }\n",
       "\n",
       "    .dataframe thead th {\n",
       "        text-align: right;\n",
       "    }\n",
       "</style>\n",
       "<table border=\"1\" class=\"dataframe\">\n",
       "  <thead>\n",
       "    <tr style=\"text-align: right;\">\n",
       "      <th></th>\n",
       "      <th>casi_da_screening</th>\n",
       "      <th>tamponi</th>\n",
       "      <th>casi_testati</th>\n",
       "    </tr>\n",
       "  </thead>\n",
       "  <tbody>\n",
       "    <tr>\n",
       "      <th>count</th>\n",
       "      <td>30.000000</td>\n",
       "      <td>3.000000e+01</td>\n",
       "      <td>30.000000</td>\n",
       "    </tr>\n",
       "    <tr>\n",
       "      <th>mean</th>\n",
       "      <td>23819.100000</td>\n",
       "      <td>8.991813e+05</td>\n",
       "      <td>541012.533333</td>\n",
       "    </tr>\n",
       "    <tr>\n",
       "      <th>std</th>\n",
       "      <td>10109.049453</td>\n",
       "      <td>1.005626e+05</td>\n",
       "      <td>70267.735118</td>\n",
       "    </tr>\n",
       "    <tr>\n",
       "      <th>min</th>\n",
       "      <td>12572.000000</td>\n",
       "      <td>7.561650e+05</td>\n",
       "      <td>452847.000000</td>\n",
       "    </tr>\n",
       "    <tr>\n",
       "      <th>25%</th>\n",
       "      <td>14933.500000</td>\n",
       "      <td>8.100948e+05</td>\n",
       "      <td>480797.250000</td>\n",
       "    </tr>\n",
       "    <tr>\n",
       "      <th>50%</th>\n",
       "      <td>21402.500000</td>\n",
       "      <td>8.885935e+05</td>\n",
       "      <td>524285.000000</td>\n",
       "    </tr>\n",
       "    <tr>\n",
       "      <th>75%</th>\n",
       "      <td>31097.750000</td>\n",
       "      <td>9.805518e+05</td>\n",
       "      <td>595742.500000</td>\n",
       "    </tr>\n",
       "    <tr>\n",
       "      <th>max</th>\n",
       "      <td>45008.000000</td>\n",
       "      <td>1.079137e+06</td>\n",
       "      <td>675549.000000</td>\n",
       "    </tr>\n",
       "  </tbody>\n",
       "</table>\n",
       "</div>"
      ],
      "text/plain": [
       "       casi_da_screening       tamponi   casi_testati\n",
       "count          30.000000  3.000000e+01      30.000000\n",
       "mean        23819.100000  8.991813e+05  541012.533333\n",
       "std         10109.049453  1.005626e+05   70267.735118\n",
       "min         12572.000000  7.561650e+05  452847.000000\n",
       "25%         14933.500000  8.100948e+05  480797.250000\n",
       "50%         21402.500000  8.885935e+05  524285.000000\n",
       "75%         31097.750000  9.805518e+05  595742.500000\n",
       "max         45008.000000  1.079137e+06  675549.000000"
      ]
     },
     "execution_count": 17,
     "metadata": {},
     "output_type": "execute_result"
    }
   ],
   "source": [
    "Piedmont_raw_data[-30:][['dates','casi_da_screening','tamponi', \n",
    "                        'casi_testati']].describe()"
   ]
  },
  {
   "cell_type": "code",
   "execution_count": 18,
   "metadata": {},
   "outputs": [
    {
     "name": "stdout",
     "output_type": "stream",
     "text": [
      "Last 30 days ratio 'casi_da_screening' (30 days mean) / 'casi_testati' (30 days mean): 4.40%\n"
     ]
    }
   ],
   "source": [
    "print(\n",
    "\"Last 30 days ratio 'casi_da_screening' (30 days mean) / 'casi_testati' (30 days mean): %.2f%%\" %\n",
    "       (100 * Piedmont_raw_data[-30:][['dates','casi_da_screening','tamponi', \n",
    "                        'casi_testati']].describe().values[1][0] \n",
    "       /\n",
    "              Piedmont_raw_data[-30:][['dates','casi_da_screening','tamponi', \n",
    "                        'casi_testati']].describe().values[1][2]) )"
   ]
  },
  {
   "cell_type": "code",
   "execution_count": 19,
   "metadata": {},
   "outputs": [],
   "source": [
    "delay=5"
   ]
  },
  {
   "cell_type": "code",
   "execution_count": 20,
   "metadata": {},
   "outputs": [
    {
     "name": "stdout",
     "output_type": "stream",
     "text": [
      "Ratio 'casi_da_screening' 2020-11-04 / 'casi_testati' 2020-10-30: 7.22%\n"
     ]
    }
   ],
   "source": [
    "print(\"Ratio 'casi_da_screening' %.10s / 'casi_testati' %.10s: %.2f%%\" %\n",
    "      (Piedmont_raw_data[-1:][['dates']].values[0][0],\n",
    "       Piedmont_raw_data[-1-delay:-delay][['dates']].values[0][0],\n",
    "       100*Piedmont_raw_data[-1:][['casi_da_screening']].values[0][0] / \\\n",
    "    Piedmont_raw_data[-1-delay:-delay][['casi_testati']].values[0][0]))"
   ]
  },
  {
   "cell_type": "code",
   "execution_count": 21,
   "metadata": {},
   "outputs": [
    {
     "data": {
      "text/plain": [
       "<AxesSubplot:title={'center':'Figure 4, ration (%) with shift = dealy'}, xlabel='dates'>"
      ]
     },
     "execution_count": 21,
     "metadata": {},
     "output_type": "execute_result"
    },
    {
     "data": {
      "image/png": "[encoded data removed]",
      "text/plain": [
       "<Figure size 432x288 with 1 Axes>"
      ]
     },
     "metadata": {
      "needs_background": "light"
     },
     "output_type": "display_data"
    }
   ],
   "source": [
    "Piedmont_raw_data['ratios']=100*Piedmont_raw_data['casi_da_screening'] / \\\n",
    "    Piedmont_raw_data['casi_testati'].shift(delay)\n",
    "\n",
    "Piedmont_raw_data.plot(x='dates',y=['ratios'], title=\"Figure 4, ration (%) with shift = dealy\")"
   ]
  },
  {
   "cell_type": "code",
   "execution_count": null,
   "metadata": {},
   "outputs": [],
   "source": []
  }
 ],
 "metadata": {
  "kernelspec": {
   "display_name": "Python 3",
   "language": "python",
   "name": "python3"
  },
  "language_info": {
   "codemirror_mode": {
    "name": "ipython",
    "version": 3
   },
   "file_extension": ".py",
   "mimetype": "text/x-python",
   "name": "python",
   "nbconvert_exporter": "python",
   "pygments_lexer": "ipython3",
   "version": "3.8.6"
  }
 },
 "nbformat": 4,
 "nbformat_minor": 2
}
