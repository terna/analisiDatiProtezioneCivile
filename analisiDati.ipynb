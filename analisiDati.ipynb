{
 "cells": [
  {
   "cell_type": "markdown",
   "metadata": {},
   "source": [
    "# Analysis of Piedmont data, by Pietro Terna$^1$ and Stefano Terna$^2$  \n",
    "$^1$ Univerity of Torino, Italy (retired) & Collegio Carlo Alberto, Italy  \n",
    "$^2$ PhD, [tomorrowdata.io](https://tomorrowdata.io)"
   ]
  },
  {
   "cell_type": "markdown",
   "metadata": {},
   "source": [
    "base of tth data https://github.com/pcm-dpc/COVID-19\n",
    "\n",
    "definitions https://github.com/pcm-dpc/COVID-19/blob/master/dati-andamento-covid19-italia.md#dati-per-regione"
   ]
  },
  {
   "cell_type": "code",
   "execution_count": 1,
   "metadata": {},
   "outputs": [
    {
     "data": {
      "text/plain": [
       "Index(['dates', 'stato', 'codice_regione', 'denominazione_regione', 'lat',\n",
       "       'long', 'ricoverati_con_sintomi', 'terapia_intensiva',\n",
       "       'totale_ospedalizzati', 'isolamento_domiciliare', 'totale_positivi',\n",
       "       'variazione_totale_positivi', 'nuovi_positivi', 'dimessi_guariti',\n",
       "       'deceduti', 'casi_da_sospetto_diagnostico', 'casi_da_screening',\n",
       "       'totale_casi', 'tamponi', 'casi_testati', 'note'],\n",
       "      dtype='object')"
      ]
     },
     "execution_count": 1,
     "metadata": {},
     "output_type": "execute_result"
    }
   ],
   "source": [
    "import pandas as pd\n",
    "import matplotlib.pyplot as plt\n",
    "from datetime import datetime\n",
    "\n",
    "def parse_date(date):\n",
    "    return datetime.strptime(date[:10], '%Y-%m-%d')\n",
    "\n",
    "regional_data = pd.read_csv(\n",
    "    'https://raw.githubusercontent.com/pcm-dpc/COVID-19/master/dati-regioni/dpc-covid19-ita-regioni.csv',\n",
    "    parse_dates=['data'],\n",
    "    date_parser=parse_date)\n",
    "\n",
    "Piedmont_data=regional_data[regional_data.denominazione_regione=='Piemonte']\n",
    "Piedmont_data=Piedmont_data.rename(columns = {'data': 'dates'},inplace = False)\n",
    "\n",
    "relevant_columns=['dates','ricoverati_con_sintomi','terapia_intensiva',\n",
    "       'totale_ospedalizzati', 'isolamento_domiciliare', 'totale_positivi',\n",
    "       'variazione_totale_positivi', 'nuovi_positivi', 'dimessi_guariti',\n",
    "       'deceduti', 'casi_da_sospetto_diagnostico', 'casi_da_screening',\n",
    "       'totale_casi', 'tamponi', 'casi_testati'];\n",
    "# https://matplotlib.org/3.1.0/gallery/color/named_colors.html\n",
    "colorDict={'ricoverati_con_sintomi':'lightgray', 'terapia_intensiva':'darkgray',\n",
    "           'totale_ospedalizzati':'dimgray', 'isolamento_domiciliare':'brown', \n",
    "           'totale_positivi':'red','variazione_totale_positivi':' orange', \n",
    "           'nuovi_positivi':'olive', 'dimessi_guariti':'gold','deceduti':'black',\n",
    "           'casi_da_sospetto_diagnostico':'fuchsia', 'casi_da_screening':'violet',\n",
    "           'totale_casi':'blue', 'tamponi':'green', 'casi_testati':'lime'}\n",
    "Piedmont_data.columns"
   ]
  },
  {
   "cell_type": "markdown",
   "metadata": {},
   "source": [
    "<br/>\n",
    "\n",
    "# Definitions\n",
    "**from the [Protezione Civile](https://github.com/pcm-dpc/COVID-19/blob/master/dati-andamento-covid19-italia.md#dati-per-regione) web site [in square brakets my addenda]**   \n",
    "   \n",
    "**ricoverati_con_sintomi <span style=\"color: red;\">[stock in a given day]</span>**  \n",
    "Ricoverati con sintomi - Hospitalised patients with symptoms  \n",
    "\n",
    "**terapia_intensiva <span style=\"color: red;\">[stock in a given day]</span>**  \n",
    "Ricoverati in terapia intensiva\t- Intensive Care  \n",
    "  \n",
    "**totale_ospedalizzati <span style=\"color: red;\">[stock in a given day]</span>**  \n",
    "Totale ospedalizzati - Total hospitalised patients  \n",
    "  \n",
    "**isolamento_domiciliare <span style=\"color: red;\">[stock in a given day]</span>**  \n",
    "Persone in isolamento domiciliare\tHome confinement  \n",
    "  \n",
    "**totale_positivi <span style=\"color: red;\">[stock in a given day]</span>**  \n",
    "Totale attualmente positivi (ospedalizzati + isolamento domiciliare) - Total amount of current positive cases (Hospitalised patients + Home confinement)  \n",
    "  \n",
    "**variazione_totale_positivi <span style=\"color: red;\">[first difference of totale_positivi]</span>**  \n",
    "Variazione del totale positivi (totale_positivi giorno corrente - totale_positivi giorno precedente) - News amount of current positive cases (totale_positivi current day - totale_positivi previous day)  \n",
    "  \n",
    "**nuovi_positivi <span style=\"color: red;\">[first difference of totale_casi]</span>**NOOOO  \n",
    "Nuovi attualmente positivi (totale_casi giorno corrente - totale_casi giorno precedente) - News amount of current positive cases (totale_casi current day - totale_casi previous day)  \n",
    "  \n",
    "**dimessi_guariti <span style=\"color: red;\">[cumulative values]</span>**  \n",
    "Persone dimesse guarite - Recovered  \n",
    "  \n",
    "**deceduti <span style=\"color: red;\">[cumulative values]</span>**  \n",
    "Persone decedute - Death  \n",
    "  \n",
    "**casi_da_sospetto_diagnostico <span style=\"color: red;\">[cumulative values]</span>**  \n",
    "Casi positivi al tampone emersi da attività clinica - Positive cases emerged from clinical activity  \n",
    "  \n",
    "**casi_da_screening <span style=\"color: red;\">[cumulative values]</span>**  \n",
    "Casi positivi emersi da indagini e test, pianificati a livello nazionale o regionale - Positive cases emerging from surveys and tests, planned at national or regional level  \n",
    "  \n",
    "**totale_casi <span style=\"color: red;\">[cumulative values]</span>**  \n",
    "Totale casi positivi - Total amount of positive cases  \n",
    "  \n",
    "**tamponi <span style=\"color: red;\">[cumulative values]</span>**  \n",
    "Totale tamponi - Tests performed  \n",
    "  \n",
    "**casi_testati <span style=\"color: red;\">[cumulative values]</span>**  \n",
    "Totale dei soggetti sottoposti al test\tTotal number of people tested  \n",
    "\n",
    "**<span style=\"color: red;\">Please look at the appendix for data examples and confrontations</span>**  "
   ]
  },
  {
   "cell_type": "markdown",
   "metadata": {},
   "source": [
    "<br/>\n",
    "\n",
    "\n",
    "# Data from the last two days  \n",
    "<br/>\n",
    "\n"
   ]
  },
  {
   "cell_type": "code",
   "execution_count": 2,
   "metadata": {
    "scrolled": true
   },
   "outputs": [
    {
     "data": {
      "text/html": [
       "<div>\n",
       "<style scoped>\n",
       "    .dataframe tbody tr th:only-of-type {\n",
       "        vertical-align: middle;\n",
       "    }\n",
       "\n",
       "    .dataframe tbody tr th {\n",
       "        vertical-align: top;\n",
       "    }\n",
       "\n",
       "    .dataframe thead th {\n",
       "        text-align: right;\n",
       "    }\n",
       "</style>\n",
       "<table border=\"1\" class=\"dataframe\">\n",
       "  <thead>\n",
       "    <tr style=\"text-align: right;\">\n",
       "      <th></th>\n",
       "      <th>dates</th>\n",
       "      <th>ricoverati_con_sintomi</th>\n",
       "      <th>terapia_intensiva</th>\n",
       "      <th>totale_ospedalizzati</th>\n",
       "      <th>isolamento_domiciliare</th>\n",
       "      <th>totale_positivi</th>\n",
       "      <th>variazione_totale_positivi</th>\n",
       "      <th>nuovi_positivi</th>\n",
       "      <th>dimessi_guariti</th>\n",
       "      <th>deceduti</th>\n",
       "      <th>casi_da_sospetto_diagnostico</th>\n",
       "      <th>casi_da_screening</th>\n",
       "      <th>totale_casi</th>\n",
       "      <th>tamponi</th>\n",
       "      <th>casi_testati</th>\n",
       "    </tr>\n",
       "  </thead>\n",
       "  <tbody>\n",
       "    <tr>\n",
       "      <th>5368</th>\n",
       "      <td>2020-11-05</td>\n",
       "      <td>3698</td>\n",
       "      <td>249</td>\n",
       "      <td>3947</td>\n",
       "      <td>40027</td>\n",
       "      <td>43974</td>\n",
       "      <td>2397</td>\n",
       "      <td>3171</td>\n",
       "      <td>36086</td>\n",
       "      <td>4520</td>\n",
       "      <td>37804.0</td>\n",
       "      <td>46776.0</td>\n",
       "      <td>84580</td>\n",
       "      <td>1095992</td>\n",
       "      <td>687826.0</td>\n",
       "    </tr>\n",
       "    <tr>\n",
       "      <th>5389</th>\n",
       "      <td>2020-11-06</td>\n",
       "      <td>3871</td>\n",
       "      <td>268</td>\n",
       "      <td>4139</td>\n",
       "      <td>43777</td>\n",
       "      <td>47916</td>\n",
       "      <td>3942</td>\n",
       "      <td>4878</td>\n",
       "      <td>36993</td>\n",
       "      <td>4549</td>\n",
       "      <td>39162.0</td>\n",
       "      <td>50296.0</td>\n",
       "      <td>89458</td>\n",
       "      <td>1117280</td>\n",
       "      <td>703606.0</td>\n",
       "    </tr>\n",
       "    <tr>\n",
       "      <th>5410</th>\n",
       "      <td>2020-11-07</td>\n",
       "      <td>4122</td>\n",
       "      <td>284</td>\n",
       "      <td>4406</td>\n",
       "      <td>47083</td>\n",
       "      <td>51489</td>\n",
       "      <td>3573</td>\n",
       "      <td>4437</td>\n",
       "      <td>37812</td>\n",
       "      <td>4594</td>\n",
       "      <td>40806.0</td>\n",
       "      <td>53089.0</td>\n",
       "      <td>93895</td>\n",
       "      <td>1134670</td>\n",
       "      <td>715993.0</td>\n",
       "    </tr>\n",
       "  </tbody>\n",
       "</table>\n",
       "</div>"
      ],
      "text/plain": [
       "          dates  ricoverati_con_sintomi  terapia_intensiva  \\\n",
       "5368 2020-11-05                    3698                249   \n",
       "5389 2020-11-06                    3871                268   \n",
       "5410 2020-11-07                    4122                284   \n",
       "\n",
       "      totale_ospedalizzati  isolamento_domiciliare  totale_positivi  \\\n",
       "5368                  3947                   40027            43974   \n",
       "5389                  4139                   43777            47916   \n",
       "5410                  4406                   47083            51489   \n",
       "\n",
       "      variazione_totale_positivi  nuovi_positivi  dimessi_guariti  deceduti  \\\n",
       "5368                        2397            3171            36086      4520   \n",
       "5389                        3942            4878            36993      4549   \n",
       "5410                        3573            4437            37812      4594   \n",
       "\n",
       "      casi_da_sospetto_diagnostico  casi_da_screening  totale_casi  tamponi  \\\n",
       "5368                       37804.0            46776.0        84580  1095992   \n",
       "5389                       39162.0            50296.0        89458  1117280   \n",
       "5410                       40806.0            53089.0        93895  1134670   \n",
       "\n",
       "      casi_testati  \n",
       "5368      687826.0  \n",
       "5389      703606.0  \n",
       "5410      715993.0  "
      ]
     },
     "execution_count": 2,
     "metadata": {},
     "output_type": "execute_result"
    }
   ],
   "source": [
    "Piedmont_data[-3:][relevant_columns]"
   ]
  },
  {
   "cell_type": "markdown",
   "metadata": {},
   "source": [
    "### First differences  "
   ]
  },
  {
   "cell_type": "code",
   "execution_count": 3,
   "metadata": {},
   "outputs": [
    {
     "data": {
      "text/html": [
       "<div>\n",
       "<style scoped>\n",
       "    .dataframe tbody tr th:only-of-type {\n",
       "        vertical-align: middle;\n",
       "    }\n",
       "\n",
       "    .dataframe tbody tr th {\n",
       "        vertical-align: top;\n",
       "    }\n",
       "\n",
       "    .dataframe thead th {\n",
       "        text-align: right;\n",
       "    }\n",
       "</style>\n",
       "<table border=\"1\" class=\"dataframe\">\n",
       "  <thead>\n",
       "    <tr style=\"text-align: right;\">\n",
       "      <th></th>\n",
       "      <th>dates</th>\n",
       "      <th>ricoverati_con_sintomi</th>\n",
       "      <th>terapia_intensiva</th>\n",
       "      <th>totale_ospedalizzati</th>\n",
       "      <th>isolamento_domiciliare</th>\n",
       "      <th>totale_positivi</th>\n",
       "      <th>variazione_totale_positivi</th>\n",
       "      <th>nuovi_positivi</th>\n",
       "      <th>dimessi_guariti</th>\n",
       "      <th>deceduti</th>\n",
       "      <th>casi_da_sospetto_diagnostico</th>\n",
       "      <th>casi_da_screening</th>\n",
       "      <th>totale_casi</th>\n",
       "      <th>tamponi</th>\n",
       "      <th>casi_testati</th>\n",
       "    </tr>\n",
       "  </thead>\n",
       "  <tbody>\n",
       "    <tr>\n",
       "      <th>5389</th>\n",
       "      <td>1 days</td>\n",
       "      <td>173.0</td>\n",
       "      <td>19.0</td>\n",
       "      <td>192.0</td>\n",
       "      <td>3750.0</td>\n",
       "      <td>3942.0</td>\n",
       "      <td>1545.0</td>\n",
       "      <td>1707.0</td>\n",
       "      <td>907.0</td>\n",
       "      <td>29.0</td>\n",
       "      <td>1358.0</td>\n",
       "      <td>3520.0</td>\n",
       "      <td>4878.0</td>\n",
       "      <td>21288.0</td>\n",
       "      <td>15780.0</td>\n",
       "    </tr>\n",
       "    <tr>\n",
       "      <th>5410</th>\n",
       "      <td>1 days</td>\n",
       "      <td>251.0</td>\n",
       "      <td>16.0</td>\n",
       "      <td>267.0</td>\n",
       "      <td>3306.0</td>\n",
       "      <td>3573.0</td>\n",
       "      <td>-369.0</td>\n",
       "      <td>-441.0</td>\n",
       "      <td>819.0</td>\n",
       "      <td>45.0</td>\n",
       "      <td>1644.0</td>\n",
       "      <td>2793.0</td>\n",
       "      <td>4437.0</td>\n",
       "      <td>17390.0</td>\n",
       "      <td>12387.0</td>\n",
       "    </tr>\n",
       "  </tbody>\n",
       "</table>\n",
       "</div>"
      ],
      "text/plain": [
       "      dates  ricoverati_con_sintomi  terapia_intensiva  totale_ospedalizzati  \\\n",
       "5389 1 days                   173.0               19.0                 192.0   \n",
       "5410 1 days                   251.0               16.0                 267.0   \n",
       "\n",
       "      isolamento_domiciliare  totale_positivi  variazione_totale_positivi  \\\n",
       "5389                  3750.0           3942.0                      1545.0   \n",
       "5410                  3306.0           3573.0                      -369.0   \n",
       "\n",
       "      nuovi_positivi  dimessi_guariti  deceduti  casi_da_sospetto_diagnostico  \\\n",
       "5389          1707.0            907.0      29.0                        1358.0   \n",
       "5410          -441.0            819.0      45.0                        1644.0   \n",
       "\n",
       "      casi_da_screening  totale_casi  tamponi  casi_testati  \n",
       "5389             3520.0       4878.0  21288.0       15780.0  \n",
       "5410             2793.0       4437.0  17390.0       12387.0  "
      ]
     },
     "execution_count": 3,
     "metadata": {},
     "output_type": "execute_result"
    }
   ],
   "source": [
    "Piedmont_data[relevant_columns].diff(periods=1)[-2:]"
   ]
  },
  {
   "cell_type": "markdown",
   "metadata": {},
   "source": [
    "<br/>\n",
    "\n",
    "# Figure 1  \n",
    "  \n",
    "  \n",
    "The introduction of 'casi_da_screening' profoundly modifies the 'totale_casi' count (a cumulative value) and – via 'isolamento_domiciliare' – also modifies the 'totale_positivi' count (a daily stock). Two reasons:   \n",
    "  \n",
    "(i) the overrepresentation of positive cases in the tested subjects is due to their characteristics (individuals with specific risk profiles);  \n",
    "  \n",
    "(ii) tracking cases via screening, we find asymptomatic positive persons who we were not accounting for in the first phase of the epidemic."
   ]
  },
  {
   "cell_type": "code",
   "execution_count": 4,
   "metadata": {},
   "outputs": [
    {
     "data": {
      "image/png": "[encoded data removed]",
      "text/plain": [
       "<Figure size 864x648 with 1 Axes>"
      ]
     },
     "metadata": {
      "needs_background": "light"
     },
     "output_type": "display_data"
    }
   ],
   "source": [
    "plt.rcParams['figure.figsize'] = [12, 9]\n",
    "Piedmont_data.plot.line(x='dates',    y=['ricoverati_con_sintomi', 'terapia_intensiva',\n",
    "                                         'totale_ospedalizzati','isolamento_domiciliare',\n",
    "                                         'casi_da_sospetto_diagnostico','casi_da_screening',\n",
    "                                         'totale_positivi','totale_casi'], title=\"Figure 1\",\n",
    "                            color=colorDict,lw=2);"
   ]
  },
  {
   "cell_type": "markdown",
   "metadata": {},
   "source": [
    "<br/>\n",
    "\n",
    "## Figure 1.1  \n",
    "  "
   ]
  },
  {
   "cell_type": "code",
   "execution_count": 5,
   "metadata": {},
   "outputs": [
    {
     "data": {
      "image/png": "[encoded data removed]",
      "text/plain": [
       "<Figure size 864x576 with 1 Axes>"
      ]
     },
     "metadata": {
      "needs_background": "light"
     },
     "output_type": "display_data"
    }
   ],
   "source": [
    "plt.rcParams['figure.figsize'] = [12, 8]\n",
    "Piedmont_data.plot.line(x='dates',y=['ricoverati_con_sintomi',\n",
    "                                    'terapia_intensiva','totale_ospedalizzati'], \n",
    "                            title=\"Figure 1.1\",\n",
    "                            color=colorDict,lw=2);"
   ]
  },
  {
   "cell_type": "markdown",
   "metadata": {},
   "source": [
    "# Figure 2"
   ]
  },
  {
   "cell_type": "code",
   "execution_count": 6,
   "metadata": {},
   "outputs": [
    {
     "data": {
      "text/plain": [
       "3520.0"
      ]
     },
     "execution_count": 6,
     "metadata": {},
     "output_type": "execute_result"
    }
   ],
   "source": [
    "Piedmont_data['casi_da_screening'].diff(periods=1)[-2:].values[0]"
   ]
  },
  {
   "cell_type": "code",
   "execution_count": 7,
   "metadata": {},
   "outputs": [
    {
     "data": {
      "text/plain": [
       "3750.0"
      ]
     },
     "execution_count": 7,
     "metadata": {},
     "output_type": "execute_result"
    }
   ],
   "source": [
    "Piedmont_data['isolamento_domiciliare'].diff(periods=1)[-2:].values[0]"
   ]
  },
  {
   "cell_type": "code",
   "execution_count": 8,
   "metadata": {},
   "outputs": [
    {
     "data": {
      "text/plain": [
       "3520.0"
      ]
     },
     "execution_count": 8,
     "metadata": {},
     "output_type": "execute_result"
    }
   ],
   "source": [
    "min (Piedmont_data['isolamento_domiciliare'].diff(periods=1)[-2:].values[0], \n",
    "     Piedmont_data['casi_da_screening'].diff(periods=1)[-2:].values[0])"
   ]
  },
  {
   "cell_type": "code",
   "execution_count": null,
   "metadata": {},
   "outputs": [],
   "source": []
  },
  {
   "cell_type": "code",
   "execution_count": null,
   "metadata": {},
   "outputs": [],
   "source": []
  },
  {
   "cell_type": "code",
   "execution_count": 9,
   "metadata": {},
   "outputs": [],
   "source": [
    "Piedmont_data['totale_casi_no_casi_da_screening']=Piedmont_data['totale_casi'] - \\\n",
    "                                          Piedmont_data['casi_da_screening'].fillna(0)"
   ]
  },
  {
   "cell_type": "code",
   "execution_count": 10,
   "metadata": {},
   "outputs": [
    {
     "data": {
      "text/plain": [
       "<AxesSubplot:title={'center':'Figure 2'}, xlabel='dates'>"
      ]
     },
     "execution_count": 10,
     "metadata": {},
     "output_type": "execute_result"
    },
    {
     "data": {
      "image/png": "[encoded data removed]",
      "text/plain": [
       "<Figure size 864x576 with 1 Axes>"
      ]
     },
     "metadata": {
      "needs_background": "light"
     },
     "output_type": "display_data"
    }
   ],
   "source": [
    "Piedmont_data.plot.line(x='dates',y=['totale_positivi','totale_casi_no_casi_da_screening'], \n",
    "                       title=\"Figure 2\")"
   ]
  },
  {
   "cell_type": "markdown",
   "metadata": {},
   "source": [
    "# Try to understand the discontinuity, in Figure 2:\n",
    "### the break is at day 2020-06-03 with 3324 'casi_da_screening'  probably included, with similar amounts, in a segment of the previous days"
   ]
  },
  {
   "cell_type": "code",
   "execution_count": 11,
   "metadata": {},
   "outputs": [
    {
     "data": {
      "text/html": [
       "<div>\n",
       "<style scoped>\n",
       "    .dataframe tbody tr th:only-of-type {\n",
       "        vertical-align: middle;\n",
       "    }\n",
       "\n",
       "    .dataframe tbody tr th {\n",
       "        vertical-align: top;\n",
       "    }\n",
       "\n",
       "    .dataframe thead th {\n",
       "        text-align: right;\n",
       "    }\n",
       "</style>\n",
       "<table border=\"1\" class=\"dataframe\">\n",
       "  <thead>\n",
       "    <tr style=\"text-align: right;\">\n",
       "      <th></th>\n",
       "      <th>dates</th>\n",
       "      <th>totale_ospedalizzati</th>\n",
       "      <th>isolamento_domiciliare</th>\n",
       "      <th>totale_positivi</th>\n",
       "      <th>dimessi_guariti</th>\n",
       "      <th>deceduti</th>\n",
       "      <th>totale_casi</th>\n",
       "      <th>casi_da_sospetto_diagnostico</th>\n",
       "      <th>casi_da_screening</th>\n",
       "      <th>totale_casi_no_casi_da_screening</th>\n",
       "    </tr>\n",
       "  </thead>\n",
       "  <tbody>\n",
       "    <tr>\n",
       "      <th>2113</th>\n",
       "      <td>2020-06-03</td>\n",
       "      <td>885</td>\n",
       "      <td>3801</td>\n",
       "      <td>4686</td>\n",
       "      <td>22150</td>\n",
       "      <td>3898</td>\n",
       "      <td>30734</td>\n",
       "      <td>NaN</td>\n",
       "      <td>NaN</td>\n",
       "      <td>30734.0</td>\n",
       "    </tr>\n",
       "    <tr>\n",
       "      <th>2134</th>\n",
       "      <td>2020-06-04</td>\n",
       "      <td>851</td>\n",
       "      <td>3705</td>\n",
       "      <td>4556</td>\n",
       "      <td>22292</td>\n",
       "      <td>3910</td>\n",
       "      <td>30758</td>\n",
       "      <td>NaN</td>\n",
       "      <td>NaN</td>\n",
       "      <td>30758.0</td>\n",
       "    </tr>\n",
       "    <tr>\n",
       "      <th>2155</th>\n",
       "      <td>2020-06-05</td>\n",
       "      <td>783</td>\n",
       "      <td>3586</td>\n",
       "      <td>4369</td>\n",
       "      <td>22511</td>\n",
       "      <td>3927</td>\n",
       "      <td>30807</td>\n",
       "      <td>NaN</td>\n",
       "      <td>NaN</td>\n",
       "      <td>30807.0</td>\n",
       "    </tr>\n",
       "    <tr>\n",
       "      <th>2176</th>\n",
       "      <td>2020-06-06</td>\n",
       "      <td>721</td>\n",
       "      <td>3446</td>\n",
       "      <td>4167</td>\n",
       "      <td>22744</td>\n",
       "      <td>3934</td>\n",
       "      <td>30845</td>\n",
       "      <td>NaN</td>\n",
       "      <td>NaN</td>\n",
       "      <td>30845.0</td>\n",
       "    </tr>\n",
       "    <tr>\n",
       "      <th>2197</th>\n",
       "      <td>2020-06-07</td>\n",
       "      <td>697</td>\n",
       "      <td>3265</td>\n",
       "      <td>3962</td>\n",
       "      <td>22952</td>\n",
       "      <td>3941</td>\n",
       "      <td>30855</td>\n",
       "      <td>NaN</td>\n",
       "      <td>NaN</td>\n",
       "      <td>30855.0</td>\n",
       "    </tr>\n",
       "    <tr>\n",
       "      <th>2218</th>\n",
       "      <td>2020-06-08</td>\n",
       "      <td>669</td>\n",
       "      <td>3197</td>\n",
       "      <td>3866</td>\n",
       "      <td>23049</td>\n",
       "      <td>3954</td>\n",
       "      <td>30869</td>\n",
       "      <td>NaN</td>\n",
       "      <td>NaN</td>\n",
       "      <td>30869.0</td>\n",
       "    </tr>\n",
       "    <tr>\n",
       "      <th>2239</th>\n",
       "      <td>2020-06-09</td>\n",
       "      <td>638</td>\n",
       "      <td>3033</td>\n",
       "      <td>3671</td>\n",
       "      <td>23258</td>\n",
       "      <td>3961</td>\n",
       "      <td>30890</td>\n",
       "      <td>NaN</td>\n",
       "      <td>NaN</td>\n",
       "      <td>30890.0</td>\n",
       "    </tr>\n",
       "    <tr>\n",
       "      <th>2260</th>\n",
       "      <td>2020-06-10</td>\n",
       "      <td>599</td>\n",
       "      <td>2773</td>\n",
       "      <td>3372</td>\n",
       "      <td>23568</td>\n",
       "      <td>3976</td>\n",
       "      <td>30916</td>\n",
       "      <td>NaN</td>\n",
       "      <td>NaN</td>\n",
       "      <td>30916.0</td>\n",
       "    </tr>\n",
       "    <tr>\n",
       "      <th>2281</th>\n",
       "      <td>2020-06-11</td>\n",
       "      <td>577</td>\n",
       "      <td>2606</td>\n",
       "      <td>3183</td>\n",
       "      <td>23787</td>\n",
       "      <td>3988</td>\n",
       "      <td>30958</td>\n",
       "      <td>NaN</td>\n",
       "      <td>NaN</td>\n",
       "      <td>30958.0</td>\n",
       "    </tr>\n",
       "    <tr>\n",
       "      <th>2302</th>\n",
       "      <td>2020-06-12</td>\n",
       "      <td>557</td>\n",
       "      <td>2340</td>\n",
       "      <td>2897</td>\n",
       "      <td>24096</td>\n",
       "      <td>3996</td>\n",
       "      <td>30989</td>\n",
       "      <td>NaN</td>\n",
       "      <td>NaN</td>\n",
       "      <td>30989.0</td>\n",
       "    </tr>\n",
       "    <tr>\n",
       "      <th>2323</th>\n",
       "      <td>2020-06-13</td>\n",
       "      <td>537</td>\n",
       "      <td>2283</td>\n",
       "      <td>2820</td>\n",
       "      <td>24203</td>\n",
       "      <td>4006</td>\n",
       "      <td>31029</td>\n",
       "      <td>NaN</td>\n",
       "      <td>NaN</td>\n",
       "      <td>31029.0</td>\n",
       "    </tr>\n",
       "    <tr>\n",
       "      <th>2344</th>\n",
       "      <td>2020-06-14</td>\n",
       "      <td>543</td>\n",
       "      <td>2105</td>\n",
       "      <td>2648</td>\n",
       "      <td>24399</td>\n",
       "      <td>4012</td>\n",
       "      <td>31059</td>\n",
       "      <td>NaN</td>\n",
       "      <td>NaN</td>\n",
       "      <td>31059.0</td>\n",
       "    </tr>\n",
       "    <tr>\n",
       "      <th>2365</th>\n",
       "      <td>2020-06-15</td>\n",
       "      <td>545</td>\n",
       "      <td>2059</td>\n",
       "      <td>2604</td>\n",
       "      <td>24445</td>\n",
       "      <td>4012</td>\n",
       "      <td>31061</td>\n",
       "      <td>NaN</td>\n",
       "      <td>NaN</td>\n",
       "      <td>31061.0</td>\n",
       "    </tr>\n",
       "    <tr>\n",
       "      <th>2386</th>\n",
       "      <td>2020-06-16</td>\n",
       "      <td>500</td>\n",
       "      <td>1950</td>\n",
       "      <td>2450</td>\n",
       "      <td>24622</td>\n",
       "      <td>4018</td>\n",
       "      <td>31090</td>\n",
       "      <td>NaN</td>\n",
       "      <td>NaN</td>\n",
       "      <td>31090.0</td>\n",
       "    </tr>\n",
       "    <tr>\n",
       "      <th>2407</th>\n",
       "      <td>2020-06-17</td>\n",
       "      <td>473</td>\n",
       "      <td>1912</td>\n",
       "      <td>2385</td>\n",
       "      <td>24720</td>\n",
       "      <td>4026</td>\n",
       "      <td>31131</td>\n",
       "      <td>NaN</td>\n",
       "      <td>NaN</td>\n",
       "      <td>31131.0</td>\n",
       "    </tr>\n",
       "    <tr>\n",
       "      <th>2428</th>\n",
       "      <td>2020-06-18</td>\n",
       "      <td>422</td>\n",
       "      <td>1868</td>\n",
       "      <td>2290</td>\n",
       "      <td>24840</td>\n",
       "      <td>4032</td>\n",
       "      <td>31162</td>\n",
       "      <td>NaN</td>\n",
       "      <td>NaN</td>\n",
       "      <td>31162.0</td>\n",
       "    </tr>\n",
       "    <tr>\n",
       "      <th>2449</th>\n",
       "      <td>2020-06-19</td>\n",
       "      <td>385</td>\n",
       "      <td>1793</td>\n",
       "      <td>2178</td>\n",
       "      <td>24971</td>\n",
       "      <td>4039</td>\n",
       "      <td>31188</td>\n",
       "      <td>NaN</td>\n",
       "      <td>NaN</td>\n",
       "      <td>31188.0</td>\n",
       "    </tr>\n",
       "    <tr>\n",
       "      <th>2470</th>\n",
       "      <td>2020-06-20</td>\n",
       "      <td>375</td>\n",
       "      <td>1713</td>\n",
       "      <td>2088</td>\n",
       "      <td>25082</td>\n",
       "      <td>4045</td>\n",
       "      <td>31215</td>\n",
       "      <td>NaN</td>\n",
       "      <td>NaN</td>\n",
       "      <td>31215.0</td>\n",
       "    </tr>\n",
       "    <tr>\n",
       "      <th>2491</th>\n",
       "      <td>2020-06-21</td>\n",
       "      <td>375</td>\n",
       "      <td>1638</td>\n",
       "      <td>2013</td>\n",
       "      <td>25177</td>\n",
       "      <td>4051</td>\n",
       "      <td>31241</td>\n",
       "      <td>NaN</td>\n",
       "      <td>NaN</td>\n",
       "      <td>31241.0</td>\n",
       "    </tr>\n",
       "    <tr>\n",
       "      <th>2512</th>\n",
       "      <td>2020-06-22</td>\n",
       "      <td>365</td>\n",
       "      <td>1605</td>\n",
       "      <td>1970</td>\n",
       "      <td>25223</td>\n",
       "      <td>4055</td>\n",
       "      <td>31248</td>\n",
       "      <td>NaN</td>\n",
       "      <td>NaN</td>\n",
       "      <td>31248.0</td>\n",
       "    </tr>\n",
       "    <tr>\n",
       "      <th>2533</th>\n",
       "      <td>2020-06-23</td>\n",
       "      <td>348</td>\n",
       "      <td>1522</td>\n",
       "      <td>1870</td>\n",
       "      <td>25325</td>\n",
       "      <td>4059</td>\n",
       "      <td>31254</td>\n",
       "      <td>NaN</td>\n",
       "      <td>NaN</td>\n",
       "      <td>31254.0</td>\n",
       "    </tr>\n",
       "    <tr>\n",
       "      <th>2554</th>\n",
       "      <td>2020-06-24</td>\n",
       "      <td>352</td>\n",
       "      <td>1378</td>\n",
       "      <td>1730</td>\n",
       "      <td>25480</td>\n",
       "      <td>4066</td>\n",
       "      <td>31276</td>\n",
       "      <td>NaN</td>\n",
       "      <td>NaN</td>\n",
       "      <td>31276.0</td>\n",
       "    </tr>\n",
       "    <tr>\n",
       "      <th>2575</th>\n",
       "      <td>2020-06-25</td>\n",
       "      <td>331</td>\n",
       "      <td>1350</td>\n",
       "      <td>1681</td>\n",
       "      <td>25544</td>\n",
       "      <td>4071</td>\n",
       "      <td>31296</td>\n",
       "      <td>27972.0</td>\n",
       "      <td>3324.0</td>\n",
       "      <td>27972.0</td>\n",
       "    </tr>\n",
       "    <tr>\n",
       "      <th>2596</th>\n",
       "      <td>2020-06-26</td>\n",
       "      <td>321</td>\n",
       "      <td>1264</td>\n",
       "      <td>1585</td>\n",
       "      <td>25649</td>\n",
       "      <td>4077</td>\n",
       "      <td>31311</td>\n",
       "      <td>27693.0</td>\n",
       "      <td>3618.0</td>\n",
       "      <td>27693.0</td>\n",
       "    </tr>\n",
       "    <tr>\n",
       "      <th>2617</th>\n",
       "      <td>2020-06-27</td>\n",
       "      <td>315</td>\n",
       "      <td>1188</td>\n",
       "      <td>1503</td>\n",
       "      <td>25739</td>\n",
       "      <td>4080</td>\n",
       "      <td>31322</td>\n",
       "      <td>27491.0</td>\n",
       "      <td>3831.0</td>\n",
       "      <td>27491.0</td>\n",
       "    </tr>\n",
       "    <tr>\n",
       "      <th>2638</th>\n",
       "      <td>2020-06-28</td>\n",
       "      <td>317</td>\n",
       "      <td>1178</td>\n",
       "      <td>1495</td>\n",
       "      <td>25756</td>\n",
       "      <td>4085</td>\n",
       "      <td>31336</td>\n",
       "      <td>27436.0</td>\n",
       "      <td>3900.0</td>\n",
       "      <td>27436.0</td>\n",
       "    </tr>\n",
       "    <tr>\n",
       "      <th>2659</th>\n",
       "      <td>2020-06-29</td>\n",
       "      <td>294</td>\n",
       "      <td>1196</td>\n",
       "      <td>1490</td>\n",
       "      <td>25761</td>\n",
       "      <td>4087</td>\n",
       "      <td>31338</td>\n",
       "      <td>27422.0</td>\n",
       "      <td>3916.0</td>\n",
       "      <td>27422.0</td>\n",
       "    </tr>\n",
       "    <tr>\n",
       "      <th>2680</th>\n",
       "      <td>2020-06-30</td>\n",
       "      <td>279</td>\n",
       "      <td>1144</td>\n",
       "      <td>1423</td>\n",
       "      <td>25836</td>\n",
       "      <td>4090</td>\n",
       "      <td>31349</td>\n",
       "      <td>27273.0</td>\n",
       "      <td>4076.0</td>\n",
       "      <td>27273.0</td>\n",
       "    </tr>\n",
       "    <tr>\n",
       "      <th>2701</th>\n",
       "      <td>2020-07-01</td>\n",
       "      <td>271</td>\n",
       "      <td>1082</td>\n",
       "      <td>1353</td>\n",
       "      <td>25921</td>\n",
       "      <td>4091</td>\n",
       "      <td>31365</td>\n",
       "      <td>27132.0</td>\n",
       "      <td>4233.0</td>\n",
       "      <td>27132.0</td>\n",
       "    </tr>\n",
       "    <tr>\n",
       "      <th>2722</th>\n",
       "      <td>2020-07-02</td>\n",
       "      <td>259</td>\n",
       "      <td>1040</td>\n",
       "      <td>1299</td>\n",
       "      <td>25983</td>\n",
       "      <td>4096</td>\n",
       "      <td>31378</td>\n",
       "      <td>26969.0</td>\n",
       "      <td>4409.0</td>\n",
       "      <td>26969.0</td>\n",
       "    </tr>\n",
       "  </tbody>\n",
       "</table>\n",
       "</div>"
      ],
      "text/plain": [
       "          dates  totale_ospedalizzati  isolamento_domiciliare  \\\n",
       "2113 2020-06-03                   885                    3801   \n",
       "2134 2020-06-04                   851                    3705   \n",
       "2155 2020-06-05                   783                    3586   \n",
       "2176 2020-06-06                   721                    3446   \n",
       "2197 2020-06-07                   697                    3265   \n",
       "2218 2020-06-08                   669                    3197   \n",
       "2239 2020-06-09                   638                    3033   \n",
       "2260 2020-06-10                   599                    2773   \n",
       "2281 2020-06-11                   577                    2606   \n",
       "2302 2020-06-12                   557                    2340   \n",
       "2323 2020-06-13                   537                    2283   \n",
       "2344 2020-06-14                   543                    2105   \n",
       "2365 2020-06-15                   545                    2059   \n",
       "2386 2020-06-16                   500                    1950   \n",
       "2407 2020-06-17                   473                    1912   \n",
       "2428 2020-06-18                   422                    1868   \n",
       "2449 2020-06-19                   385                    1793   \n",
       "2470 2020-06-20                   375                    1713   \n",
       "2491 2020-06-21                   375                    1638   \n",
       "2512 2020-06-22                   365                    1605   \n",
       "2533 2020-06-23                   348                    1522   \n",
       "2554 2020-06-24                   352                    1378   \n",
       "2575 2020-06-25                   331                    1350   \n",
       "2596 2020-06-26                   321                    1264   \n",
       "2617 2020-06-27                   315                    1188   \n",
       "2638 2020-06-28                   317                    1178   \n",
       "2659 2020-06-29                   294                    1196   \n",
       "2680 2020-06-30                   279                    1144   \n",
       "2701 2020-07-01                   271                    1082   \n",
       "2722 2020-07-02                   259                    1040   \n",
       "\n",
       "      totale_positivi  dimessi_guariti  deceduti  totale_casi  \\\n",
       "2113             4686            22150      3898        30734   \n",
       "2134             4556            22292      3910        30758   \n",
       "2155             4369            22511      3927        30807   \n",
       "2176             4167            22744      3934        30845   \n",
       "2197             3962            22952      3941        30855   \n",
       "2218             3866            23049      3954        30869   \n",
       "2239             3671            23258      3961        30890   \n",
       "2260             3372            23568      3976        30916   \n",
       "2281             3183            23787      3988        30958   \n",
       "2302             2897            24096      3996        30989   \n",
       "2323             2820            24203      4006        31029   \n",
       "2344             2648            24399      4012        31059   \n",
       "2365             2604            24445      4012        31061   \n",
       "2386             2450            24622      4018        31090   \n",
       "2407             2385            24720      4026        31131   \n",
       "2428             2290            24840      4032        31162   \n",
       "2449             2178            24971      4039        31188   \n",
       "2470             2088            25082      4045        31215   \n",
       "2491             2013            25177      4051        31241   \n",
       "2512             1970            25223      4055        31248   \n",
       "2533             1870            25325      4059        31254   \n",
       "2554             1730            25480      4066        31276   \n",
       "2575             1681            25544      4071        31296   \n",
       "2596             1585            25649      4077        31311   \n",
       "2617             1503            25739      4080        31322   \n",
       "2638             1495            25756      4085        31336   \n",
       "2659             1490            25761      4087        31338   \n",
       "2680             1423            25836      4090        31349   \n",
       "2701             1353            25921      4091        31365   \n",
       "2722             1299            25983      4096        31378   \n",
       "\n",
       "      casi_da_sospetto_diagnostico  casi_da_screening  \\\n",
       "2113                           NaN                NaN   \n",
       "2134                           NaN                NaN   \n",
       "2155                           NaN                NaN   \n",
       "2176                           NaN                NaN   \n",
       "2197                           NaN                NaN   \n",
       "2218                           NaN                NaN   \n",
       "2239                           NaN                NaN   \n",
       "2260                           NaN                NaN   \n",
       "2281                           NaN                NaN   \n",
       "2302                           NaN                NaN   \n",
       "2323                           NaN                NaN   \n",
       "2344                           NaN                NaN   \n",
       "2365                           NaN                NaN   \n",
       "2386                           NaN                NaN   \n",
       "2407                           NaN                NaN   \n",
       "2428                           NaN                NaN   \n",
       "2449                           NaN                NaN   \n",
       "2470                           NaN                NaN   \n",
       "2491                           NaN                NaN   \n",
       "2512                           NaN                NaN   \n",
       "2533                           NaN                NaN   \n",
       "2554                           NaN                NaN   \n",
       "2575                       27972.0             3324.0   \n",
       "2596                       27693.0             3618.0   \n",
       "2617                       27491.0             3831.0   \n",
       "2638                       27436.0             3900.0   \n",
       "2659                       27422.0             3916.0   \n",
       "2680                       27273.0             4076.0   \n",
       "2701                       27132.0             4233.0   \n",
       "2722                       26969.0             4409.0   \n",
       "\n",
       "      totale_casi_no_casi_da_screening  \n",
       "2113                           30734.0  \n",
       "2134                           30758.0  \n",
       "2155                           30807.0  \n",
       "2176                           30845.0  \n",
       "2197                           30855.0  \n",
       "2218                           30869.0  \n",
       "2239                           30890.0  \n",
       "2260                           30916.0  \n",
       "2281                           30958.0  \n",
       "2302                           30989.0  \n",
       "2323                           31029.0  \n",
       "2344                           31059.0  \n",
       "2365                           31061.0  \n",
       "2386                           31090.0  \n",
       "2407                           31131.0  \n",
       "2428                           31162.0  \n",
       "2449                           31188.0  \n",
       "2470                           31215.0  \n",
       "2491                           31241.0  \n",
       "2512                           31248.0  \n",
       "2533                           31254.0  \n",
       "2554                           31276.0  \n",
       "2575                           27972.0  \n",
       "2596                           27693.0  \n",
       "2617                           27491.0  \n",
       "2638                           27436.0  \n",
       "2659                           27422.0  \n",
       "2680                           27273.0  \n",
       "2701                           27132.0  \n",
       "2722                           26969.0  "
      ]
     },
     "execution_count": 11,
     "metadata": {},
     "output_type": "execute_result"
    }
   ],
   "source": [
    "Piedmont_data[100:130][['dates','totale_ospedalizzati', 'isolamento_domiciliare',\n",
    "                            'totale_positivi','dimessi_guariti','deceduti','totale_casi',\n",
    "                            'casi_da_sospetto_diagnostico','casi_da_screening',\n",
    "                            'totale_casi_no_casi_da_screening']]"
   ]
  },
  {
   "cell_type": "markdown",
   "metadata": {},
   "source": [
    "# Figure 2b, still temporary, \n",
    "### duplication in 'isolamento_domiciliare'"
   ]
  },
  {
   "cell_type": "code",
   "execution_count": 12,
   "metadata": {},
   "outputs": [],
   "source": [
    "Piedmont_data['correction']=\\\n",
    "Piedmont_data['casi_da_screening'].fillna(0).where(Piedmont_data['casi_da_screening'].fillna(0)\n",
    "                                                      ==0, 3324)\n",
    "\n",
    "Piedmont_data['totale_casi_no_casi_da_screening_corr']=\\\n",
    "Piedmont_data['totale_casi'] - Piedmont_data['casi_da_screening'].fillna(0) + \\\n",
    "Piedmont_data['correction']\n",
    "\n",
    "\n",
    "#???\n",
    "Piedmont_data['totale_positivi_no_casi_da_screening_corr']=\\\n",
    "Piedmont_data['totale_positivi'] - Piedmont_data['casi_da_screening'].fillna(0) + \\\n",
    "Piedmont_data['correction']"
   ]
  },
  {
   "cell_type": "code",
   "execution_count": 13,
   "metadata": {},
   "outputs": [
    {
     "data": {
      "text/plain": [
       "<AxesSubplot:title={'center':'Figure 2b'}, xlabel='dates'>"
      ]
     },
     "execution_count": 13,
     "metadata": {},
     "output_type": "execute_result"
    },
    {
     "data": {
      "image/png": "[encoded data removed]",
      "text/plain": [
       "<Figure size 864x576 with 1 Axes>"
      ]
     },
     "metadata": {
      "needs_background": "light"
     },
     "output_type": "display_data"
    }
   ],
   "source": [
    "Piedmont_data.plot(x='dates',y=['totale_ospedalizzati',\n",
    "                                    'totale_positivi',\n",
    "                                    'totale_casi_no_casi_da_screening_corr'],title=\"Figure 2b\")"
   ]
  },
  {
   "cell_type": "markdown",
   "metadata": {},
   "source": [
    "# Figure 3"
   ]
  },
  {
   "cell_type": "code",
   "execution_count": 14,
   "metadata": {},
   "outputs": [
    {
     "data": {
      "text/plain": [
       "<AxesSubplot:title={'center':'Figure 3'}, xlabel='dates'>"
      ]
     },
     "execution_count": 14,
     "metadata": {},
     "output_type": "execute_result"
    },
    {
     "data": {
      "image/png": "[encoded data removed]",
      "text/plain": [
       "<Figure size 864x576 with 1 Axes>"
      ]
     },
     "metadata": {
      "needs_background": "light"
     },
     "output_type": "display_data"
    }
   ],
   "source": [
    "Piedmont_data.plot(x='dates',y=['casi_da_screening',\n",
    "                                    'tamponi', 'casi_testati'], title=\"Figure 3\")"
   ]
  },
  {
   "cell_type": "markdown",
   "metadata": {},
   "source": [
    "# Ratios    \n",
    "### casi_da_screening' / 'casi_testati' with a delay"
   ]
  },
  {
   "cell_type": "code",
   "execution_count": 15,
   "metadata": {},
   "outputs": [
    {
     "data": {
      "text/html": [
       "<div>\n",
       "<style scoped>\n",
       "    .dataframe tbody tr th:only-of-type {\n",
       "        vertical-align: middle;\n",
       "    }\n",
       "\n",
       "    .dataframe tbody tr th {\n",
       "        vertical-align: top;\n",
       "    }\n",
       "\n",
       "    .dataframe thead th {\n",
       "        text-align: right;\n",
       "    }\n",
       "</style>\n",
       "<table border=\"1\" class=\"dataframe\">\n",
       "  <thead>\n",
       "    <tr style=\"text-align: right;\">\n",
       "      <th></th>\n",
       "      <th>casi_da_screening</th>\n",
       "      <th>tamponi</th>\n",
       "      <th>casi_testati</th>\n",
       "    </tr>\n",
       "  </thead>\n",
       "  <tbody>\n",
       "    <tr>\n",
       "      <th>count</th>\n",
       "      <td>30.000000</td>\n",
       "      <td>3.000000e+01</td>\n",
       "      <td>30.000000</td>\n",
       "    </tr>\n",
       "    <tr>\n",
       "      <th>mean</th>\n",
       "      <td>27545.100000</td>\n",
       "      <td>9.344124e+05</td>\n",
       "      <td>565658.066667</td>\n",
       "    </tr>\n",
       "    <tr>\n",
       "      <th>std</th>\n",
       "      <td>12130.170469</td>\n",
       "      <td>1.086895e+05</td>\n",
       "      <td>79195.202256</td>\n",
       "    </tr>\n",
       "    <tr>\n",
       "      <th>min</th>\n",
       "      <td>13352.000000</td>\n",
       "      <td>7.779670e+05</td>\n",
       "      <td>462323.000000</td>\n",
       "    </tr>\n",
       "    <tr>\n",
       "      <th>25%</th>\n",
       "      <td>16685.750000</td>\n",
       "      <td>8.411855e+05</td>\n",
       "      <td>494990.250000</td>\n",
       "    </tr>\n",
       "    <tr>\n",
       "      <th>50%</th>\n",
       "      <td>25005.000000</td>\n",
       "      <td>9.255525e+05</td>\n",
       "      <td>551642.500000</td>\n",
       "    </tr>\n",
       "    <tr>\n",
       "      <th>75%</th>\n",
       "      <td>36540.000000</td>\n",
       "      <td>1.025165e+06</td>\n",
       "      <td>633113.250000</td>\n",
       "    </tr>\n",
       "    <tr>\n",
       "      <th>max</th>\n",
       "      <td>53089.000000</td>\n",
       "      <td>1.134670e+06</td>\n",
       "      <td>715993.000000</td>\n",
       "    </tr>\n",
       "  </tbody>\n",
       "</table>\n",
       "</div>"
      ],
      "text/plain": [
       "       casi_da_screening       tamponi   casi_testati\n",
       "count          30.000000  3.000000e+01      30.000000\n",
       "mean        27545.100000  9.344124e+05  565658.066667\n",
       "std         12130.170469  1.086895e+05   79195.202256\n",
       "min         13352.000000  7.779670e+05  462323.000000\n",
       "25%         16685.750000  8.411855e+05  494990.250000\n",
       "50%         25005.000000  9.255525e+05  551642.500000\n",
       "75%         36540.000000  1.025165e+06  633113.250000\n",
       "max         53089.000000  1.134670e+06  715993.000000"
      ]
     },
     "execution_count": 15,
     "metadata": {},
     "output_type": "execute_result"
    }
   ],
   "source": [
    "Piedmont_data[-30:][['dates','casi_da_screening','tamponi', \n",
    "                        'casi_testati']].describe()"
   ]
  },
  {
   "cell_type": "code",
   "execution_count": 16,
   "metadata": {},
   "outputs": [
    {
     "name": "stdout",
     "output_type": "stream",
     "text": [
      "Last 30 days ratio 'casi_da_screening' (30 days mean) / 'casi_testati' (30 days mean): 4.87%\n"
     ]
    }
   ],
   "source": [
    "print(\n",
    "\"Last 30 days ratio 'casi_da_screening' (30 days mean) / 'casi_testati' (30 days mean): %.2f%%\" %\n",
    "       (100 * Piedmont_data[-30:][['dates','casi_da_screening','tamponi', \n",
    "                        'casi_testati']].describe().values[1][0] \n",
    "       /\n",
    "              Piedmont_data[-30:][['dates','casi_da_screening','tamponi', \n",
    "                        'casi_testati']].describe().values[1][2]) )"
   ]
  },
  {
   "cell_type": "code",
   "execution_count": 17,
   "metadata": {},
   "outputs": [],
   "source": [
    "delay=5"
   ]
  },
  {
   "cell_type": "code",
   "execution_count": 18,
   "metadata": {},
   "outputs": [
    {
     "name": "stdout",
     "output_type": "stream",
     "text": [
      "Ratio 'casi_da_screening' 2020-11-07 / 'casi_testati' 2020-11-02: 8.13%\n"
     ]
    }
   ],
   "source": [
    "print(\"Ratio 'casi_da_screening' %.10s / 'casi_testati' %.10s: %.2f%%\" %\n",
    "      (Piedmont_data[-1:][['dates']].values[0][0],\n",
    "       Piedmont_data[-1-delay:-delay][['dates']].values[0][0],\n",
    "       100*Piedmont_data[-1:][['casi_da_screening']].values[0][0] / \\\n",
    "    Piedmont_data[-1-delay:-delay][['casi_testati']].values[0][0]))"
   ]
  },
  {
   "cell_type": "code",
   "execution_count": 19,
   "metadata": {},
   "outputs": [
    {
     "data": {
      "text/plain": [
       "<AxesSubplot:title={'center':'Figure 4, ration (%) with shift = dealy'}, xlabel='dates'>"
      ]
     },
     "execution_count": 19,
     "metadata": {},
     "output_type": "execute_result"
    },
    {
     "data": {
      "image/png": "[encoded data removed]",
      "text/plain": [
       "<Figure size 864x576 with 1 Axes>"
      ]
     },
     "metadata": {
      "needs_background": "light"
     },
     "output_type": "display_data"
    }
   ],
   "source": [
    "Piedmont_data['ratios']=100*Piedmont_data['casi_da_screening'] / \\\n",
    "    Piedmont_data['casi_testati'].shift(delay)\n",
    "\n",
    "Piedmont_data.plot(x='dates',y=['ratios'], title=\"Figure 4, ration (%) with shift = dealy\")"
   ]
  },
  {
   "cell_type": "markdown",
   "metadata": {},
   "source": [
    "<br/>\n",
    "\n",
    "# Appendix: examples and confrontations\n",
    "<br/>\n",
    "\n"
   ]
  },
  {
   "cell_type": "code",
   "execution_count": 20,
   "metadata": {},
   "outputs": [
    {
     "data": {
      "text/html": [
       "<div>\n",
       "<style scoped>\n",
       "    .dataframe tbody tr th:only-of-type {\n",
       "        vertical-align: middle;\n",
       "    }\n",
       "\n",
       "    .dataframe tbody tr th {\n",
       "        vertical-align: top;\n",
       "    }\n",
       "\n",
       "    .dataframe thead th {\n",
       "        text-align: right;\n",
       "    }\n",
       "</style>\n",
       "<table border=\"1\" class=\"dataframe\">\n",
       "  <thead>\n",
       "    <tr style=\"text-align: right;\">\n",
       "      <th></th>\n",
       "      <th>dates</th>\n",
       "      <th>ricoverati_con_sintomi</th>\n",
       "      <th>terapia_intensiva</th>\n",
       "      <th>totale_ospedalizzati</th>\n",
       "      <th>isolamento_domiciliare</th>\n",
       "      <th>totale_positivi</th>\n",
       "      <th>variazione_totale_positivi</th>\n",
       "      <th>nuovi_positivi</th>\n",
       "      <th>dimessi_guariti</th>\n",
       "      <th>deceduti</th>\n",
       "      <th>casi_da_sospetto_diagnostico</th>\n",
       "      <th>casi_da_screening</th>\n",
       "      <th>totale_casi</th>\n",
       "      <th>tamponi</th>\n",
       "      <th>casi_testati</th>\n",
       "    </tr>\n",
       "  </thead>\n",
       "  <tbody>\n",
       "    <tr>\n",
       "      <th>1483</th>\n",
       "      <td>2020-05-04</td>\n",
       "      <td>2391</td>\n",
       "      <td>161</td>\n",
       "      <td>2552</td>\n",
       "      <td>13010</td>\n",
       "      <td>15562</td>\n",
       "      <td>-76</td>\n",
       "      <td>192</td>\n",
       "      <td>8874</td>\n",
       "      <td>3186</td>\n",
       "      <td>NaN</td>\n",
       "      <td>NaN</td>\n",
       "      <td>27622</td>\n",
       "      <td>176078</td>\n",
       "      <td>123801.0</td>\n",
       "    </tr>\n",
       "    <tr>\n",
       "      <th>1504</th>\n",
       "      <td>2020-05-05</td>\n",
       "      <td>2307</td>\n",
       "      <td>155</td>\n",
       "      <td>2462</td>\n",
       "      <td>12861</td>\n",
       "      <td>15323</td>\n",
       "      <td>-239</td>\n",
       "      <td>152</td>\n",
       "      <td>9235</td>\n",
       "      <td>3216</td>\n",
       "      <td>NaN</td>\n",
       "      <td>NaN</td>\n",
       "      <td>27774</td>\n",
       "      <td>181316</td>\n",
       "      <td>126685.0</td>\n",
       "    </tr>\n",
       "  </tbody>\n",
       "</table>\n",
       "</div>"
      ],
      "text/plain": [
       "          dates  ricoverati_con_sintomi  terapia_intensiva  \\\n",
       "1483 2020-05-04                    2391                161   \n",
       "1504 2020-05-05                    2307                155   \n",
       "\n",
       "      totale_ospedalizzati  isolamento_domiciliare  totale_positivi  \\\n",
       "1483                  2552                   13010            15562   \n",
       "1504                  2462                   12861            15323   \n",
       "\n",
       "      variazione_totale_positivi  nuovi_positivi  dimessi_guariti  deceduti  \\\n",
       "1483                         -76             192             8874      3186   \n",
       "1504                        -239             152             9235      3216   \n",
       "\n",
       "      casi_da_sospetto_diagnostico  casi_da_screening  totale_casi  tamponi  \\\n",
       "1483                           NaN                NaN        27622   176078   \n",
       "1504                           NaN                NaN        27774   181316   \n",
       "\n",
       "      casi_testati  \n",
       "1483      123801.0  \n",
       "1504      126685.0  "
      ]
     },
     "execution_count": 20,
     "metadata": {},
     "output_type": "execute_result"
    }
   ],
   "source": [
    "# beginning of May\n",
    "Piedmont_data[70:72][['dates','ricoverati_con_sintomi', 'terapia_intensiva',\n",
    "       'totale_ospedalizzati', 'isolamento_domiciliare', 'totale_positivi',\n",
    "       'variazione_totale_positivi', 'nuovi_positivi', 'dimessi_guariti',\n",
    "       'deceduti', 'casi_da_sospetto_diagnostico', 'casi_da_screening',\n",
    "       'totale_casi', 'tamponi', 'casi_testati']].head()"
   ]
  },
  {
   "cell_type": "code",
   "execution_count": 21,
   "metadata": {},
   "outputs": [
    {
     "data": {
      "text/plain": [
       "15562"
      ]
     },
     "execution_count": 21,
     "metadata": {},
     "output_type": "execute_result"
    }
   ],
   "source": [
    "# verification 'totale_positivi'='ricoverati_con_sintomi'+'terapia_intensiva'+'isolamento_domiciliare'\n",
    "2391+161+13010"
   ]
  },
  {
   "cell_type": "code",
   "execution_count": 22,
   "metadata": {},
   "outputs": [
    {
     "data": {
      "text/plain": [
       "27622"
      ]
     },
     "execution_count": 22,
     "metadata": {},
     "output_type": "execute_result"
    }
   ],
   "source": [
    "# verification 'totale_casi'='totale_positivi'+'dimessi_guariti'+'deceduti'\n",
    "15562+8874+3186"
   ]
  },
  {
   "cell_type": "code",
   "execution_count": 23,
   "metadata": {},
   "outputs": [
    {
     "data": {
      "text/html": [
       "<div>\n",
       "<style scoped>\n",
       "    .dataframe tbody tr th:only-of-type {\n",
       "        vertical-align: middle;\n",
       "    }\n",
       "\n",
       "    .dataframe tbody tr th {\n",
       "        vertical-align: top;\n",
       "    }\n",
       "\n",
       "    .dataframe thead th {\n",
       "        text-align: right;\n",
       "    }\n",
       "</style>\n",
       "<table border=\"1\" class=\"dataframe\">\n",
       "  <thead>\n",
       "    <tr style=\"text-align: right;\">\n",
       "      <th></th>\n",
       "      <th>dates</th>\n",
       "      <th>ricoverati_con_sintomi</th>\n",
       "      <th>terapia_intensiva</th>\n",
       "      <th>totale_ospedalizzati</th>\n",
       "      <th>isolamento_domiciliare</th>\n",
       "      <th>totale_positivi</th>\n",
       "      <th>variazione_totale_positivi</th>\n",
       "      <th>nuovi_positivi</th>\n",
       "      <th>dimessi_guariti</th>\n",
       "      <th>deceduti</th>\n",
       "      <th>casi_da_sospetto_diagnostico</th>\n",
       "      <th>casi_da_screening</th>\n",
       "      <th>totale_casi</th>\n",
       "      <th>tamponi</th>\n",
       "      <th>casi_testati</th>\n",
       "    </tr>\n",
       "  </thead>\n",
       "  <tbody>\n",
       "    <tr>\n",
       "      <th>5305</th>\n",
       "      <td>2020-11-02</td>\n",
       "      <td>3108</td>\n",
       "      <td>196</td>\n",
       "      <td>3304</td>\n",
       "      <td>32791</td>\n",
       "      <td>36095</td>\n",
       "      <td>1681</td>\n",
       "      <td>2003</td>\n",
       "      <td>34153</td>\n",
       "      <td>4415</td>\n",
       "      <td>34275.0</td>\n",
       "      <td>40388.0</td>\n",
       "      <td>74663</td>\n",
       "      <td>1050421</td>\n",
       "      <td>652762.0</td>\n",
       "    </tr>\n",
       "  </tbody>\n",
       "</table>\n",
       "</div>"
      ],
      "text/plain": [
       "          dates  ricoverati_con_sintomi  terapia_intensiva  \\\n",
       "5305 2020-11-02                    3108                196   \n",
       "\n",
       "      totale_ospedalizzati  isolamento_domiciliare  totale_positivi  \\\n",
       "5305                  3304                   32791            36095   \n",
       "\n",
       "      variazione_totale_positivi  nuovi_positivi  dimessi_guariti  deceduti  \\\n",
       "5305                        1681            2003            34153      4415   \n",
       "\n",
       "      casi_da_sospetto_diagnostico  casi_da_screening  totale_casi  tamponi  \\\n",
       "5305                       34275.0            40388.0        74663  1050421   \n",
       "\n",
       "      casi_testati  \n",
       "5305      652762.0  "
      ]
     },
     "execution_count": 23,
     "metadata": {},
     "output_type": "execute_result"
    }
   ],
   "source": [
    "# beginning of November\n",
    "Piedmont_data[252:253][['dates','ricoverati_con_sintomi', 'terapia_intensiva',\n",
    "       'totale_ospedalizzati', 'isolamento_domiciliare', 'totale_positivi',\n",
    "       'variazione_totale_positivi', 'nuovi_positivi', 'dimessi_guariti',\n",
    "       'deceduti', 'casi_da_sospetto_diagnostico', 'casi_da_screening',\n",
    "       'totale_casi', 'tamponi', 'casi_testati']].head()"
   ]
  },
  {
   "cell_type": "code",
   "execution_count": 24,
   "metadata": {},
   "outputs": [
    {
     "data": {
      "text/plain": [
       "36095"
      ]
     },
     "execution_count": 24,
     "metadata": {},
     "output_type": "execute_result"
    }
   ],
   "source": [
    "# verification 'totale_positivi'='ricoverati_con_sintomi'+'terapia_intensiva'+'isolamento_domiciliare'\n",
    "3108+196+32791"
   ]
  },
  {
   "cell_type": "code",
   "execution_count": 25,
   "metadata": {},
   "outputs": [
    {
     "data": {
      "text/plain": [
       "74663"
      ]
     },
     "execution_count": 25,
     "metadata": {},
     "output_type": "execute_result"
    }
   ],
   "source": [
    "# verification 'totale_casi'='totale_positivi'+'dimessi_guariti'+'deceduti'\n",
    "36095+34153+4415"
   ]
  },
  {
   "cell_type": "code",
   "execution_count": 26,
   "metadata": {},
   "outputs": [
    {
     "data": {
      "text/plain": [
       "74663"
      ]
     },
     "execution_count": 26,
     "metadata": {},
     "output_type": "execute_result"
    }
   ],
   "source": [
    "# and also\n",
    "# verification 'totale_casi'='casi_da_sospetto_diagnostico'+'casi_da_screening'\n",
    "34275+40388"
   ]
  },
  {
   "cell_type": "code",
   "execution_count": null,
   "metadata": {},
   "outputs": [],
   "source": []
  }
 ],
 "metadata": {
  "kernelspec": {
   "display_name": "Python 3",
   "language": "python",
   "name": "python3"
  },
  "language_info": {
   "codemirror_mode": {
    "name": "ipython",
    "version": 3
   },
   "file_extension": ".py",
   "mimetype": "text/x-python",
   "name": "python",
   "nbconvert_exporter": "python",
   "pygments_lexer": "ipython3",
   "version": "3.8.6"
  }
 },
 "nbformat": 4,
 "nbformat_minor": 2
}
