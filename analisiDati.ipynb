{
 "cells": [
  {
   "cell_type": "markdown",
   "metadata": {},
   "source": [
    "base of tth data https://github.com/pcm-dpc/COVID-19\n",
    "\n",
    "definitions https://github.com/pcm-dpc/COVID-19/blob/master/dati-andamento-covid19-italia.md#dati-per-regione"
   ]
  },
  {
   "cell_type": "code",
   "execution_count": 18,
   "metadata": {},
   "outputs": [],
   "source": [
    "import pandas as pd\n",
    "from datetime import datetime\n",
    "\n",
    "def parse_date(date):\n",
    "    return datetime.strptime(date[:10], '%Y-%m-%d')\n",
    "\n",
    "regions_raw_data = pd.read_csv(\n",
    "    'https://raw.githubusercontent.com/pcm-dpc/COVID-19/master/dati-regioni/dpc-covid19-ita-regioni.csv',\n",
    "    parse_dates=['data'],\n",
    "    date_parser=parse_date)\n",
    "\n",
    "Piedmont_raw_data=regions_raw_data[regions_raw_data.denominazione_regione=='Piemonte']\n",
    "Piedmont_raw_data=Piedmont_raw_data.rename(columns = {'data': 'dates'},inplace = False)\n"
   ]
  },
  {
   "cell_type": "code",
   "execution_count": 2,
   "metadata": {},
   "outputs": [
    {
     "data": {
      "text/plain": [
       "Index(['dates', 'stato', 'codice_regione', 'denominazione_regione', 'lat',\n",
       "       'long', 'ricoverati_con_sintomi', 'terapia_intensiva',\n",
       "       'totale_ospedalizzati', 'isolamento_domiciliare', 'totale_positivi',\n",
       "       'variazione_totale_positivi', 'nuovi_positivi', 'dimessi_guariti',\n",
       "       'deceduti', 'casi_da_sospetto_diagnostico', 'casi_da_screening',\n",
       "       'totale_casi', 'tamponi', 'casi_testati', 'note'],\n",
       "      dtype='object')"
      ]
     },
     "execution_count": 2,
     "metadata": {},
     "output_type": "execute_result"
    }
   ],
   "source": [
    "Piedmont_raw_data.columns"
   ]
  },
  {
   "cell_type": "markdown",
   "metadata": {},
   "source": [
    "# definitions\n",
    "### from the [Protezione Civile](https://github.com/pcm-dpc/COVID-19/blob/master/dati-andamento-covid19-italia.md#dati-per-regione) web site [in square brakets my addenda]   \n",
    "   \n",
    "**ricoverati_con_sintomi**  \n",
    "\n",
    "**terapia_intensiva**  \n",
    "  \n",
    "**totale_ospedalizzati**  \n",
    "  \n",
    "**isolamento_domiciliare**  \n",
    "  \n",
    "**totale_positivi** [stock in a given day]  \n",
    "  \n",
    "**variazione_totale_positivi** first difference of totale_positivi]  \n",
    "  \n",
    "**nuovi_positivi**  \n",
    "  \n",
    "**dimessi_guariti**  \n",
    "\n",
    "**deceduti**  \n",
    "  \n",
    "**casi_da_sospetto_diagnostico**  \n",
    "  \n",
    "**casi_da_screening**  \n",
    "  \n",
    "**totale_casi** [cumulative value]  \n",
    "  \n",
    "**tamponi**  \n",
    "  \n",
    "**casi_testati**  \n",
    "\n"
   ]
  },
  {
   "cell_type": "code",
   "execution_count": 3,
   "metadata": {},
   "outputs": [
    {
     "name": "stdout",
     "output_type": "stream",
     "text": [
      "          dates  ricoverati_con_sintomi  terapia_intensiva  \\\n",
      "1483 2020-05-04                    2391                161   \n",
      "\n",
      "      totale_ospedalizzati  isolamento_domiciliare  totale_positivi  \\\n",
      "1483                  2552                   13010            15562   \n",
      "\n",
      "      variazione_totale_positivi  nuovi_positivi  dimessi_guariti  deceduti  \\\n",
      "1483                         -76             192             8874      3186   \n",
      "\n",
      "      casi_da_sospetto_diagnostico  casi_da_screening  totale_casi  tamponi  \\\n",
      "1483                           NaN                NaN        27622   176078   \n",
      "\n",
      "      casi_testati  \n",
      "1483      123801.0  \n"
     ]
    }
   ],
   "source": [
    "# beginning of May\n",
    "print(Piedmont_raw_data[70:71][['dates','ricoverati_con_sintomi', 'terapia_intensiva',\n",
    "       'totale_ospedalizzati', 'isolamento_domiciliare', 'totale_positivi',\n",
    "       'variazione_totale_positivi', 'nuovi_positivi', 'dimessi_guariti',\n",
    "       'deceduti', 'casi_da_sospetto_diagnostico', 'casi_da_screening',\n",
    "       'totale_casi', 'tamponi', 'casi_testati']].head())"
   ]
  },
  {
   "cell_type": "code",
   "execution_count": 4,
   "metadata": {},
   "outputs": [
    {
     "data": {
      "text/plain": [
       "15562"
      ]
     },
     "execution_count": 4,
     "metadata": {},
     "output_type": "execute_result"
    }
   ],
   "source": [
    "# verification 'totale_positivi'='ricoverati_con_sintomi'+'terapia_intensiva'+'isolamento_domiciliare'\n",
    "2391+161+13010"
   ]
  },
  {
   "cell_type": "code",
   "execution_count": 5,
   "metadata": {},
   "outputs": [
    {
     "data": {
      "text/plain": [
       "27622"
      ]
     },
     "execution_count": 5,
     "metadata": {},
     "output_type": "execute_result"
    }
   ],
   "source": [
    "# verification 'totale_casi'='totale_positivi'+'dimessi_guariti'+'deceduti'\n",
    "15562+8874+3186"
   ]
  },
  {
   "cell_type": "code",
   "execution_count": 6,
   "metadata": {},
   "outputs": [
    {
     "name": "stdout",
     "output_type": "stream",
     "text": [
      "          dates  ricoverati_con_sintomi  terapia_intensiva  \\\n",
      "5305 2020-11-02                    3108                196   \n",
      "\n",
      "      totale_ospedalizzati  isolamento_domiciliare  totale_positivi  \\\n",
      "5305                  3304                   32791            36095   \n",
      "\n",
      "      variazione_totale_positivi  nuovi_positivi  dimessi_guariti  deceduti  \\\n",
      "5305                        1681            2003            34153      4415   \n",
      "\n",
      "      casi_da_sospetto_diagnostico  casi_da_screening  totale_casi  tamponi  \\\n",
      "5305                       34275.0            40388.0        74663  1050421   \n",
      "\n",
      "      casi_testati  \n",
      "5305      652762.0  \n"
     ]
    }
   ],
   "source": [
    "# beginning of November\n",
    "print(Piedmont_raw_data[252:253][['dates','ricoverati_con_sintomi', 'terapia_intensiva',\n",
    "       'totale_ospedalizzati', 'isolamento_domiciliare', 'totale_positivi',\n",
    "       'variazione_totale_positivi', 'nuovi_positivi', 'dimessi_guariti',\n",
    "       'deceduti', 'casi_da_sospetto_diagnostico', 'casi_da_screening',\n",
    "       'totale_casi', 'tamponi', 'casi_testati']].head())"
   ]
  },
  {
   "cell_type": "code",
   "execution_count": 7,
   "metadata": {},
   "outputs": [
    {
     "data": {
      "text/plain": [
       "36095"
      ]
     },
     "execution_count": 7,
     "metadata": {},
     "output_type": "execute_result"
    }
   ],
   "source": [
    "# verification 'totale_positivi'='ricoverati_con_sintomi'+'terapia_intensiva'+'isolamento_domiciliare'\n",
    "3108+196+32791"
   ]
  },
  {
   "cell_type": "code",
   "execution_count": 8,
   "metadata": {},
   "outputs": [
    {
     "data": {
      "text/plain": [
       "74663"
      ]
     },
     "execution_count": 8,
     "metadata": {},
     "output_type": "execute_result"
    }
   ],
   "source": [
    "# verification 'totale_casi'='totale_positivi'+'dimessi_guariti'+'deceduti'\n",
    "36095+34153+4415"
   ]
  },
  {
   "cell_type": "code",
   "execution_count": 9,
   "metadata": {},
   "outputs": [
    {
     "data": {
      "text/plain": [
       "74663"
      ]
     },
     "execution_count": 9,
     "metadata": {},
     "output_type": "execute_result"
    }
   ],
   "source": [
    "# but also\n",
    "# verification 'totale_casi'='casi_da_sospetto_diagnostico'+'casi_da_screening'\n",
    "34275+40388"
   ]
  },
  {
   "cell_type": "code",
   "execution_count": 10,
   "metadata": {},
   "outputs": [
    {
     "data": {
      "text/plain": [
       "<AxesSubplot:title={'center':'Figure 1'}, xlabel='dates'>"
      ]
     },
     "execution_count": 10,
     "metadata": {},
     "output_type": "execute_result"
    },
    {
     "data": {
      "image/png": "[encoded data removed]",
      "text/plain": [
       "<Figure size 432x288 with 1 Axes>"
      ]
     },
     "metadata": {
      "needs_background": "light"
     },
     "output_type": "display_data"
    }
   ],
   "source": [
    "Piedmont_raw_data.plot(x='dates',y=['casi_da_sospetto_diagnostico','casi_da_screening',\n",
    "                                    'totale_positivi','totale_casi'], title=\"Figure 1\")"
   ]
  },
  {
   "cell_type": "markdown",
   "metadata": {},
   "source": [
    "# Figure 1\n",
    "\n",
    "\n",
    "\n",
    "**totale_positivi (@)**  \n",
    "Totale attualmente positivi (ospedalizzati + isolamento domiciliare)  \n",
    "Total amount of current positive cases (Hospitalised patients + Home confinement)  \n",
    "**totale_casi (#)**  \n",
    "Totale casi positivi  \n",
    "Total amount of positive cases  \n",
    "**(@)** contains   \n",
    "**(#)** contains\n",
    "\n",
    "Verification in the two examples below.\n"
   ]
  },
  {
   "cell_type": "code",
   "execution_count": 11,
   "metadata": {},
   "outputs": [
    {
     "data": {
      "text/plain": [
       "<AxesSubplot:title={'center':'Figure 2'}, xlabel='dates'>"
      ]
     },
     "execution_count": 11,
     "metadata": {},
     "output_type": "execute_result"
    },
    {
     "data": {
      "image/png": "[encoded data removed]",
      "text/plain": [
       "<Figure size 432x288 with 1 Axes>"
      ]
     },
     "metadata": {
      "needs_background": "light"
     },
     "output_type": "display_data"
    }
   ],
   "source": [
    "Piedmont_raw_data.plot(x='dates',y=['casi_da_screening','tamponi', 'casi_testati'], title=\"Figure 2\")"
   ]
  },
  {
   "cell_type": "code",
   "execution_count": 12,
   "metadata": {},
   "outputs": [
    {
     "data": {
      "text/html": [
       "<div>\n",
       "<style scoped>\n",
       "    .dataframe tbody tr th:only-of-type {\n",
       "        vertical-align: middle;\n",
       "    }\n",
       "\n",
       "    .dataframe tbody tr th {\n",
       "        vertical-align: top;\n",
       "    }\n",
       "\n",
       "    .dataframe thead th {\n",
       "        text-align: right;\n",
       "    }\n",
       "</style>\n",
       "<table border=\"1\" class=\"dataframe\">\n",
       "  <thead>\n",
       "    <tr style=\"text-align: right;\">\n",
       "      <th></th>\n",
       "      <th>casi_da_screening</th>\n",
       "      <th>tamponi</th>\n",
       "      <th>casi_testati</th>\n",
       "    </tr>\n",
       "  </thead>\n",
       "  <tbody>\n",
       "    <tr>\n",
       "      <th>count</th>\n",
       "      <td>30.000000</td>\n",
       "      <td>3.000000e+01</td>\n",
       "      <td>30.000000</td>\n",
       "    </tr>\n",
       "    <tr>\n",
       "      <th>mean</th>\n",
       "      <td>22731.100000</td>\n",
       "      <td>8.881454e+05</td>\n",
       "      <td>533405.700000</td>\n",
       "    </tr>\n",
       "    <tr>\n",
       "      <th>std</th>\n",
       "      <td>9487.268116</td>\n",
       "      <td>9.827333e+04</td>\n",
       "      <td>67498.888684</td>\n",
       "    </tr>\n",
       "    <tr>\n",
       "      <th>min</th>\n",
       "      <td>12368.000000</td>\n",
       "      <td>7.480610e+05</td>\n",
       "      <td>447344.000000</td>\n",
       "    </tr>\n",
       "    <tr>\n",
       "      <th>25%</th>\n",
       "      <td>14493.500000</td>\n",
       "      <td>8.017165e+05</td>\n",
       "      <td>477780.000000</td>\n",
       "    </tr>\n",
       "    <tr>\n",
       "      <th>50%</th>\n",
       "      <td>19730.000000</td>\n",
       "      <td>8.752790e+05</td>\n",
       "      <td>515358.500000</td>\n",
       "    </tr>\n",
       "    <tr>\n",
       "      <th>75%</th>\n",
       "      <td>29237.750000</td>\n",
       "      <td>9.649102e+05</td>\n",
       "      <td>582599.750000</td>\n",
       "    </tr>\n",
       "    <tr>\n",
       "      <th>max</th>\n",
       "      <td>42521.000000</td>\n",
       "      <td>1.063115e+06</td>\n",
       "      <td>664753.000000</td>\n",
       "    </tr>\n",
       "  </tbody>\n",
       "</table>\n",
       "</div>"
      ],
      "text/plain": [
       "       casi_da_screening       tamponi   casi_testati\n",
       "count          30.000000  3.000000e+01      30.000000\n",
       "mean        22731.100000  8.881454e+05  533405.700000\n",
       "std          9487.268116  9.827333e+04   67498.888684\n",
       "min         12368.000000  7.480610e+05  447344.000000\n",
       "25%         14493.500000  8.017165e+05  477780.000000\n",
       "50%         19730.000000  8.752790e+05  515358.500000\n",
       "75%         29237.750000  9.649102e+05  582599.750000\n",
       "max         42521.000000  1.063115e+06  664753.000000"
      ]
     },
     "execution_count": 12,
     "metadata": {},
     "output_type": "execute_result"
    }
   ],
   "source": [
    "Piedmont_raw_data[-30:][['dates','casi_da_screening','tamponi', \n",
    "                        'casi_testati']].describe()"
   ]
  },
  {
   "cell_type": "code",
   "execution_count": 13,
   "metadata": {},
   "outputs": [
    {
     "data": {
      "text/plain": [
       "4.1287345351857"
      ]
     },
     "execution_count": 13,
     "metadata": {},
     "output_type": "execute_result"
    }
   ],
   "source": [
    "# mean % of postivivity in screening\n",
    "100*21722.5/526129.733333"
   ]
  },
  {
   "cell_type": "code",
   "execution_count": 19,
   "metadata": {},
   "outputs": [
    {
     "name": "stdout",
     "output_type": "stream",
     "text": [
      "6.396511185357569 day  2020-11-03T00:00:00.000000000\n"
     ]
    }
   ],
   "source": [
    "# last value\n",
    "print(100*Piedmont_raw_data[-1:][['casi_da_screening']].values[0][0] / \\\n",
    "    Piedmont_raw_data[-1:][['casi_testati']].values[0][0], \"day \", \n",
    "    Piedmont_raw_data[-1:][['dates']].values[0][0])"
   ]
  },
  {
   "cell_type": "code",
   "execution_count": null,
   "metadata": {},
   "outputs": [],
   "source": []
  }
 ],
 "metadata": {
  "kernelspec": {
   "display_name": "Python 3",
   "language": "python",
   "name": "python3"
  },
  "language_info": {
   "codemirror_mode": {
    "name": "ipython",
    "version": 3
   },
   "file_extension": ".py",
   "mimetype": "text/x-python",
   "name": "python",
   "nbconvert_exporter": "python",
   "pygments_lexer": "ipython3",
   "version": "3.8.6"
  }
 },
 "nbformat": 4,
 "nbformat_minor": 2
}
