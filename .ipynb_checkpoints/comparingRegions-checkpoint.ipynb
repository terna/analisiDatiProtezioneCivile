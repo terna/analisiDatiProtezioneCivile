{
 "cells": [
  {
   "cell_type": "markdown",
   "metadata": {},
   "source": [
    "# Comparative snalysis of regional data, by Pietro Terna$^1$ and Stefano Terna$^2$  \n",
    "$^1$ Univerity of Torino, Italy (retired) & Fondazione Collegio Carlo Alberto, Italy  \n",
    "$^2$ PhD, [tomorrowdata.io](https://tomorrowdata.io)"
   ]
  },
  {
   "cell_type": "markdown",
   "metadata": {},
   "source": [
    "base of tth data https://github.com/pcm-dpc/COVID-19\n",
    "\n",
    "definitions https://github.com/pcm-dpc/COVID-19/blob/master/dati-andamento-covid19-italia.md#dati-per-regione"
   ]
  },
  {
   "cell_type": "code",
   "execution_count": 57,
   "metadata": {},
   "outputs": [
    {
     "data": {
      "text/plain": [
       "Index(['dates', 'stato', 'codice_regione', 'denominazione_regione', 'lat',\n",
       "       'long', 'ricoverati_con_sintomi', 'terapia_intensiva',\n",
       "       'totale_ospedalizzati', 'isolamento_domiciliare', 'totale_positivi',\n",
       "       'variazione_totale_positivi', 'nuovi_positivi', 'dimessi_guariti',\n",
       "       'deceduti', 'casi_da_sospetto_diagnostico', 'casi_da_screening',\n",
       "       'totale_casi', 'tamponi', 'casi_testati', 'note'],\n",
       "      dtype='object')"
      ]
     },
     "execution_count": 57,
     "metadata": {},
     "output_type": "execute_result"
    }
   ],
   "source": [
    "import pandas as pd\n",
    "import matplotlib.pyplot as plt\n",
    "from datetime import datetime\n",
    "\n",
    "regions=[\"Abruzzo\", \"Basilicata\", \"Calabria\", \"Campania\", \"Emilia-Romagna\", \n",
    "         \"Friuli Venezia Giulia\", \"Lazio\", \"Liguria\", \"Lombardia\", \"Marche\", \n",
    "         \"Molise\", \"P.A. Bolzano\", \"P.A. Trento\", \"Piemonte\", \"Puglia\", \"Sardegna\",\n",
    "         \"Sicilia\", \"Toscana\", \"Umbria\", \"Valle d'Aosta\", \"Veneto\"]\n",
    "dfNames= [\"Abruzzo\", \"Basilicata\", \"Calabria\", \"Campania\", \"EmiliaRomagna\", \n",
    "         \"FriuliVeneziaGiulia\", \"Lazio\", \"Liguria\", \"Lombardia\", \"Marche\", \n",
    "         \"Molise\", \"PABolzano\", \"PATrento\", \"Piemonte\", \"Puglia\", \"Sardegna\",\n",
    "         \"Sicilia\", \"Toscana\", \"Umbria\", \"ValledAosta\", \"Veneto\"]\n",
    "\n",
    "def parse_date(date):\n",
    "    return datetime.strptime(date[:10], '%Y-%m-%d')\n",
    "\n",
    "regional_data = pd.read_csv(\n",
    "    'https://raw.githubusercontent.com/pcm-dpc/COVID-19/master/dati-regioni/dpc-covid19-ita-regioni.csv',\n",
    "    parse_dates=['data'],\n",
    "    date_parser=parse_date)\n",
    "\n",
    "#area_data=regional_data[regional_data.denominazione_regione==area]\n",
    "regional_data=regional_data.rename(columns = {'data': 'dates'},inplace = False)\n",
    "\n",
    "relevant_columns=['dates','ricoverati_con_sintomi','terapia_intensiva',\n",
    "       'totale_ospedalizzati', 'isolamento_domiciliare', 'totale_positivi',\n",
    "       'variazione_totale_positivi', 'nuovi_positivi', 'dimessi_guariti',\n",
    "       'deceduti', 'casi_da_sospetto_diagnostico', 'casi_da_screening',\n",
    "       'totale_casi', 'tamponi', 'casi_testati'];\n",
    "# https://matplotlib.org/3.1.0/gallery/color/named_colors.html\n",
    "colorDict={'ricoverati_con_sintomi':'lightgray', 'terapia_intensiva':'darkgray',\n",
    "           'totale_ospedalizzati':'dimgray', 'isolamento_domiciliare':'brown', \n",
    "           'totale_positivi':'red','variazione_totale_positivi':' orange', \n",
    "           'nuovi_positivi':'olive', 'dimessi_guariti':'yellowgreen','deceduti':'black',\n",
    "           'casi_da_sospetto_diagnostico':'fuchsia', 'casi_da_screening':'darkviolet',\n",
    "           'totale_casi':'blue', 'tamponi':'green', 'casi_testati':'lime',\n",
    "           'totale_positivi_corr':'red','totale_casi_corr':'blue',\n",
    "           'casi_da_screening_diff14days':'deeppink',\n",
    "           'totale_positiviD':'red','totale_positiviDD':'red',\n",
    "           'totale_casiD':'blue','totale_casiDD':'blue',\n",
    "           'totale_positivi_corrD':'red','totale_positivi_corrDD':'red',\n",
    "           'totale_casi_corrD':'blue','totale_casi_corrDD':'blue'}\n",
    "regional_data.columns"
   ]
  },
  {
   "cell_type": "raw",
   "metadata": {},
   "source": [
    "k=0\n",
    "Abruzzo_data=pd.DataFrame()\n",
    "Abruzzo_data['dates']=regional_data[regional_data.denominazione_regione==regions[k]].dates\n",
    "\n",
    "aRegion='_'+regions[0]\n",
    "Abruzzo_data[[relevant_columns[i]+aRegion for i in range(1,len(relevant_columns))]] = \\\n",
    "regional_data[regional_data.denominazione_regione==regions[k]] \\\n",
    "[[relevant_columns[i] for i in range(1,len(relevant_columns))]]"
   ]
  },
  {
   "cell_type": "code",
   "execution_count": 86,
   "metadata": {},
   "outputs": [],
   "source": [
    "dfList=[]\n",
    "for k in range(0,len(regions)):\n",
    "    exec(dfNames[k]+'_data=pd.DataFrame()')\n",
    "    dfList.append(dfNames[k]+'_data')"
   ]
  },
  {
   "cell_type": "code",
   "execution_count": 87,
   "metadata": {},
   "outputs": [],
   "source": [
    "Abruzzo_data['dates']=regional_data[regional_data.denominazione_regione==regions[0]].dates"
   ]
  },
  {
   "cell_type": "code",
   "execution_count": 88,
   "metadata": {},
   "outputs": [
    {
     "data": {
      "text/html": [
       "<div>\n",
       "<style scoped>\n",
       "    .dataframe tbody tr th:only-of-type {\n",
       "        vertical-align: middle;\n",
       "    }\n",
       "\n",
       "    .dataframe tbody tr th {\n",
       "        vertical-align: top;\n",
       "    }\n",
       "\n",
       "    .dataframe thead th {\n",
       "        text-align: right;\n",
       "    }\n",
       "</style>\n",
       "<table border=\"1\" class=\"dataframe\">\n",
       "  <thead>\n",
       "    <tr style=\"text-align: right;\">\n",
       "      <th></th>\n",
       "      <th>dates</th>\n",
       "    </tr>\n",
       "  </thead>\n",
       "  <tbody>\n",
       "    <tr>\n",
       "      <th>0</th>\n",
       "      <td>2020-02-24</td>\n",
       "    </tr>\n",
       "    <tr>\n",
       "      <th>21</th>\n",
       "      <td>2020-02-25</td>\n",
       "    </tr>\n",
       "    <tr>\n",
       "      <th>42</th>\n",
       "      <td>2020-02-26</td>\n",
       "    </tr>\n",
       "    <tr>\n",
       "      <th>63</th>\n",
       "      <td>2020-02-27</td>\n",
       "    </tr>\n",
       "    <tr>\n",
       "      <th>84</th>\n",
       "      <td>2020-02-28</td>\n",
       "    </tr>\n",
       "    <tr>\n",
       "      <th>...</th>\n",
       "      <td>...</td>\n",
       "    </tr>\n",
       "    <tr>\n",
       "      <th>5544</th>\n",
       "      <td>2020-11-14</td>\n",
       "    </tr>\n",
       "    <tr>\n",
       "      <th>5565</th>\n",
       "      <td>2020-11-15</td>\n",
       "    </tr>\n",
       "    <tr>\n",
       "      <th>5586</th>\n",
       "      <td>2020-11-16</td>\n",
       "    </tr>\n",
       "    <tr>\n",
       "      <th>5607</th>\n",
       "      <td>2020-11-17</td>\n",
       "    </tr>\n",
       "    <tr>\n",
       "      <th>5628</th>\n",
       "      <td>2020-11-18</td>\n",
       "    </tr>\n",
       "  </tbody>\n",
       "</table>\n",
       "<p>269 rows × 1 columns</p>\n",
       "</div>"
      ],
      "text/plain": [
       "          dates\n",
       "0    2020-02-24\n",
       "21   2020-02-25\n",
       "42   2020-02-26\n",
       "63   2020-02-27\n",
       "84   2020-02-28\n",
       "...         ...\n",
       "5544 2020-11-14\n",
       "5565 2020-11-15\n",
       "5586 2020-11-16\n",
       "5607 2020-11-17\n",
       "5628 2020-11-18\n",
       "\n",
       "[269 rows x 1 columns]"
      ]
     },
     "execution_count": 88,
     "metadata": {},
     "output_type": "execute_result"
    }
   ],
   "source": [
    "Abruzzo_data"
   ]
  },
  {
   "cell_type": "code",
   "execution_count": 89,
   "metadata": {},
   "outputs": [
    {
     "data": {
      "text/html": [
       "<div>\n",
       "<style scoped>\n",
       "    .dataframe tbody tr th:only-of-type {\n",
       "        vertical-align: middle;\n",
       "    }\n",
       "\n",
       "    .dataframe tbody tr th {\n",
       "        vertical-align: top;\n",
       "    }\n",
       "\n",
       "    .dataframe thead th {\n",
       "        text-align: right;\n",
       "    }\n",
       "</style>\n",
       "<table border=\"1\" class=\"dataframe\">\n",
       "  <thead>\n",
       "    <tr style=\"text-align: right;\">\n",
       "      <th></th>\n",
       "      <th>dates</th>\n",
       "    </tr>\n",
       "  </thead>\n",
       "  <tbody>\n",
       "    <tr>\n",
       "      <th>0</th>\n",
       "      <td>2020-02-24</td>\n",
       "    </tr>\n",
       "    <tr>\n",
       "      <th>21</th>\n",
       "      <td>2020-02-25</td>\n",
       "    </tr>\n",
       "    <tr>\n",
       "      <th>42</th>\n",
       "      <td>2020-02-26</td>\n",
       "    </tr>\n",
       "    <tr>\n",
       "      <th>63</th>\n",
       "      <td>2020-02-27</td>\n",
       "    </tr>\n",
       "    <tr>\n",
       "      <th>84</th>\n",
       "      <td>2020-02-28</td>\n",
       "    </tr>\n",
       "    <tr>\n",
       "      <th>...</th>\n",
       "      <td>...</td>\n",
       "    </tr>\n",
       "    <tr>\n",
       "      <th>5544</th>\n",
       "      <td>2020-11-14</td>\n",
       "    </tr>\n",
       "    <tr>\n",
       "      <th>5565</th>\n",
       "      <td>2020-11-15</td>\n",
       "    </tr>\n",
       "    <tr>\n",
       "      <th>5586</th>\n",
       "      <td>2020-11-16</td>\n",
       "    </tr>\n",
       "    <tr>\n",
       "      <th>5607</th>\n",
       "      <td>2020-11-17</td>\n",
       "    </tr>\n",
       "    <tr>\n",
       "      <th>5628</th>\n",
       "      <td>2020-11-18</td>\n",
       "    </tr>\n",
       "  </tbody>\n",
       "</table>\n",
       "<p>269 rows × 1 columns</p>\n",
       "</div>"
      ],
      "text/plain": [
       "          dates\n",
       "0    2020-02-24\n",
       "21   2020-02-25\n",
       "42   2020-02-26\n",
       "63   2020-02-27\n",
       "84   2020-02-28\n",
       "...         ...\n",
       "5544 2020-11-14\n",
       "5565 2020-11-15\n",
       "5586 2020-11-16\n",
       "5607 2020-11-17\n",
       "5628 2020-11-18\n",
       "\n",
       "[269 rows x 1 columns]"
      ]
     },
     "execution_count": 89,
     "metadata": {},
     "output_type": "execute_result"
    }
   ],
   "source": [
    "eval(dfList[0])"
   ]
  },
  {
   "cell_type": "code",
   "execution_count": 90,
   "metadata": {},
   "outputs": [],
   "source": [
    "eval(dfList[19])['dates']=regional_data[regional_data.denominazione_regione==regions[19]].dates"
   ]
  },
  {
   "cell_type": "code",
   "execution_count": 91,
   "metadata": {},
   "outputs": [
    {
     "data": {
      "text/html": [
       "<div>\n",
       "<style scoped>\n",
       "    .dataframe tbody tr th:only-of-type {\n",
       "        vertical-align: middle;\n",
       "    }\n",
       "\n",
       "    .dataframe tbody tr th {\n",
       "        vertical-align: top;\n",
       "    }\n",
       "\n",
       "    .dataframe thead th {\n",
       "        text-align: right;\n",
       "    }\n",
       "</style>\n",
       "<table border=\"1\" class=\"dataframe\">\n",
       "  <thead>\n",
       "    <tr style=\"text-align: right;\">\n",
       "      <th></th>\n",
       "      <th>dates</th>\n",
       "    </tr>\n",
       "  </thead>\n",
       "  <tbody>\n",
       "    <tr>\n",
       "      <th>19</th>\n",
       "      <td>2020-02-24</td>\n",
       "    </tr>\n",
       "    <tr>\n",
       "      <th>40</th>\n",
       "      <td>2020-02-25</td>\n",
       "    </tr>\n",
       "    <tr>\n",
       "      <th>61</th>\n",
       "      <td>2020-02-26</td>\n",
       "    </tr>\n",
       "    <tr>\n",
       "      <th>82</th>\n",
       "      <td>2020-02-27</td>\n",
       "    </tr>\n",
       "    <tr>\n",
       "      <th>103</th>\n",
       "      <td>2020-02-28</td>\n",
       "    </tr>\n",
       "    <tr>\n",
       "      <th>...</th>\n",
       "      <td>...</td>\n",
       "    </tr>\n",
       "    <tr>\n",
       "      <th>5563</th>\n",
       "      <td>2020-11-14</td>\n",
       "    </tr>\n",
       "    <tr>\n",
       "      <th>5584</th>\n",
       "      <td>2020-11-15</td>\n",
       "    </tr>\n",
       "    <tr>\n",
       "      <th>5605</th>\n",
       "      <td>2020-11-16</td>\n",
       "    </tr>\n",
       "    <tr>\n",
       "      <th>5626</th>\n",
       "      <td>2020-11-17</td>\n",
       "    </tr>\n",
       "    <tr>\n",
       "      <th>5647</th>\n",
       "      <td>2020-11-18</td>\n",
       "    </tr>\n",
       "  </tbody>\n",
       "</table>\n",
       "<p>269 rows × 1 columns</p>\n",
       "</div>"
      ],
      "text/plain": [
       "          dates\n",
       "19   2020-02-24\n",
       "40   2020-02-25\n",
       "61   2020-02-26\n",
       "82   2020-02-27\n",
       "103  2020-02-28\n",
       "...         ...\n",
       "5563 2020-11-14\n",
       "5584 2020-11-15\n",
       "5605 2020-11-16\n",
       "5626 2020-11-17\n",
       "5647 2020-11-18\n",
       "\n",
       "[269 rows x 1 columns]"
      ]
     },
     "execution_count": 91,
     "metadata": {},
     "output_type": "execute_result"
    }
   ],
   "source": [
    "eval(dfList[19])"
   ]
  },
  {
   "cell_type": "code",
   "execution_count": 92,
   "metadata": {},
   "outputs": [
    {
     "data": {
      "text/plain": [
       "'ValledAosta_data'"
      ]
     },
     "execution_count": 92,
     "metadata": {},
     "output_type": "execute_result"
    }
   ],
   "source": [
    "dfList[19]"
   ]
  },
  {
   "cell_type": "markdown",
   "metadata": {},
   "source": [
    "<br/>\n",
    "\n",
    "# Definitions\n",
    "**from the [Protezione Civile](https://github.com/pcm-dpc/COVID-19/blob/master/dati-andamento-covid19-italia.md#dati-per-regione) web site [in square brakets my addenda]**,\n",
    "     \n",
    "**<span style=\"color: red;\">Legenda</span>**  about stocks and flows:  \n",
    "    - stock($t$), quantity of day $t$;  \n",
    "    - flow$[t_1,t_2]$, sum of the quantities from day $t_1$ to day $t_2$,  \n",
    "with $[t_1,t_2]=\\{x \\in \\mathbb{R}|t_1 \\leq x \\leq t_2\\}$\n",
    "\n",
    "   \n",
    "**ricoverati_con_sintomi <span style=\"color: red;\">[stock(t)]</span>**  \n",
    "Ricoverati con sintomi | Hospitalised patients with symptoms  \n",
    "\n",
    "**terapia_intensiva <span style=\"color: red;\">[stock(t)]</span>**  \n",
    "Ricoverati in terapia intensiva\t| Intensive Care  \n",
    "  \n",
    "**totale_ospedalizzati <span style=\"color: red;\">[stock(t)]</span>**  \n",
    "Totale ospedalizzati | Total hospitalised patients  \n",
    "  \n",
    "**isolamento_domiciliare <span style=\"color: red;\">[stock(t)]</span>**  \n",
    "Persone in isolamento domiciliare | Home confinement  \n",
    "  \n",
    "**totale_positivi <span style=\"color: red;\">[stock(t)]</span>**  \n",
    "Totale attualmente positivi (ospedalizzati + isolamento domiciliare) | Total amount of current positive cases (Hospitalised patients + Home confinement)  \n",
    "  \n",
    "**variazione_totale_positivi <span style=\"color: red;\">[first difference of totale_positivi  (stock(t) - stock(t-1)]</span>**  \n",
    "Variazione del totale positivi (totale_positivi giorno corrente - totale_positivi giorno precedente) | News amount of current positive cases (totale_positivi current day - totale_positivi previous day)  \n",
    "  \n",
    "**nuovi_positivi <span style=\"color: red;\">[first difference of totale_casi flow (flow[1,t] - flow[1,t-1], i.e., stock[t]]</span>**  \n",
    "Nuovi attualmente positivi (totale_casi giorno corrente - totale_casi giorno precedente) | News amount of current positive cases (totale_casi current day - totale_casi previous day)  \n",
    "  \n",
    "**dimessi_guariti <span style=\"color: red;\">[flow[1,t]]</span>**  \n",
    "Persone dimesse guarite | Recovered  \n",
    "  \n",
    "**deceduti <span style=\"color: red;\">[flow[1,t]]</span>**  \n",
    "Persone decedute | Death  \n",
    "  \n",
    "**casi_da_sospetto_diagnostico <span style=\"color: red;\">[flow[1,t]]</span>**  \n",
    "Casi positivi al tampone emersi da attività clinica | Positive cases emerged from clinical activity  \n",
    "  \n",
    "**casi_da_screening <span style=\"color: red;\">[fflow[1,t]]</span>**  \n",
    "Casi positivi emersi da indagini e test, pianificati a livello nazionale o regionale | Positive cases emerging from surveys and tests, planned at national or regional level  \n",
    "  \n",
    "**totale_casi <span style=\"color: red;\">[flow[1,t]]</span>**  \n",
    "Totale casi positivi | Total amount of positive cases  \n",
    "  \n",
    "**tamponi <span style=\"color: red;\">[flow[1,t]]</span>**  \n",
    "Totale tamponi - Tests performed  \n",
    "  \n",
    "**casi_testati <span style=\"color: red;\">[flow[1,t]]</span>**  \n",
    "Totale dei soggetti sottoposti al test | Total number of people tested    \n",
    "  \n",
    "  \n",
    "\n",
    "summing stocks to produce a stock  \n",
    "totale_positivi(t) **<span style=\"color: red\">=</span>** ricoverati_con_sintomi(t) + terapia_intensiva(t) + isolamento_domiciliare(t)  \n",
    "  \n",
    "summing a stock and two flows to pruduce a flow (the stock acts as an addendum)  \n",
    "totale_casi[1,t] **<span style=\"color: red\">=</span>** totale_positivi(t) + dimessi_guariti[1,t] + deceduti[1,t] \n",
    "  \n",
    "summing two flows to produce a flow  \n",
    "totale_casi[1,t] **<span style=\"color: red\">=</span>** casi_da_sospetto_diagnostico[1,t] + casi_da_screening[1,t]    "
   ]
  },
  {
   "cell_type": "raw",
   "metadata": {},
   "source": [
    "<br/>\n",
    "\n",
    "\n",
    "# Data from the last three days  \n",
    "<br/>\n",
    "\n"
   ]
  },
  {
   "cell_type": "raw",
   "metadata": {},
   "source": [
    "area"
   ]
  },
  {
   "cell_type": "raw",
   "metadata": {
    "scrolled": true
   },
   "source": [
    "area_data[-3:][relevant_columns]"
   ]
  },
  {
   "cell_type": "raw",
   "metadata": {},
   "source": [
    "### First differences  "
   ]
  },
  {
   "cell_type": "raw",
   "metadata": {},
   "source": [
    "area_data[relevant_columns].diff()[-3:]"
   ]
  },
  {
   "cell_type": "raw",
   "metadata": {},
   "source": [
    "<br/>\n",
    "\n",
    "# Figure 1, using data as they are  \n",
    "  \n",
    "The introduction of 'casi_da_screening' profoundly modifies the 'totale_casi' count (a cumulative value) and – via 'isolamento_domiciliare' – also modifies the 'totale_positivi' count (a daily stock). Two reasons:   \n",
    "  \n",
    "(i) the overrepresentation of positive cases in the tested subjects is due to their characteristics (individuals with specific risk profiles);  \n",
    "  \n",
    "(ii) tracking cases via screening, we find asymptomatic positive persons who we were not accounting for in the first phase of the epidemic."
   ]
  },
  {
   "cell_type": "raw",
   "metadata": {},
   "source": [
    "plt.rcParams['figure.figsize'] = [12, 9]\n",
    "area_data.plot.line(x='dates',    y=['ricoverati_con_sintomi', 'terapia_intensiva',\n",
    "                                     'totale_ospedalizzati','isolamento_domiciliare',\n",
    "                                     'totale_positivi',\n",
    "                                     'dimessi_guariti','deceduti',\n",
    "                                     'totale_casi',\n",
    "                                     'casi_da_sospetto_diagnostico','casi_da_screening'], \n",
    "                    title=\n",
    "                    area+\" - Figure 1, stocks and cumuative values, using data as they are\",\n",
    "                    color=colorDict,lw=1,ylim=(0,1.05*max(area_data['totale_casi'])));"
   ]
  },
  {
   "cell_type": "raw",
   "metadata": {},
   "source": [
    "<br/>\n",
    "\n",
    "## Figure 1.1, paying attention to two curves plus one\n",
    "  \n",
    "Pay attention to the dynamic of the 'isolamento_domiciliare' curve and the 'casi_da_screening' one.  \n",
    "  \n",
    "We see a strong relation between them (not valid for all the regions). They are a **stock** and a **cumulative value**.  \n",
    "  \n",
    "Let us define a 14 days difference in 'casi_da_screening,' considering this value to approximate the **stock** of quarantine simultaneously present cases. Its dynamic is quite similar to that of the 'isolamento_domiciliare' **stock**. we name it 'casi_da_screening_diff14days'."
   ]
  },
  {
   "cell_type": "raw",
   "metadata": {},
   "source": [
    "area_data['casi_da_screening_diff14days'] = area_data.casi_da_screening - \\\n",
    "                                             area_data.casi_da_screening.shift(14)"
   ]
  },
  {
   "cell_type": "raw",
   "metadata": {},
   "source": [
    "plt.rcParams['figure.figsize'] = [12, 9]\n",
    "area_data.plot.line(x='dates',    y=['isolamento_domiciliare','casi_da_screening',\n",
    "                                     'casi_da_screening_diff14days'], \n",
    "                    title=area+\" - Figure 1.1, two stocks and a cumulative values\",\n",
    "                    color=colorDict,lw=1,ylim=(0,1.05*max(area_data['totale_casi'])));"
   ]
  },
  {
   "cell_type": "raw",
   "metadata": {},
   "source": [
    "<br/>\n",
    "\n",
    "## Figure 1.2a-b, about stock data which are comparable over time, with two vertical scales\n",
    "  "
   ]
  },
  {
   "cell_type": "raw",
   "metadata": {},
   "source": [
    "plt.rcParams['figure.figsize'] = [12, 9]\n",
    "area_data.plot.line(x='dates',y=['ricoverati_con_sintomi',\n",
    "                                    'terapia_intensiva','totale_ospedalizzati'], \n",
    "                            title=area+\" - Figure 1.2a, stocks; general vertical scale\",\n",
    "                            color=colorDict,lw=1,ylim=(0,1.05*max(area_data['totale_casi'])));"
   ]
  },
  {
   "cell_type": "raw",
   "metadata": {},
   "source": [
    "plt.rcParams['figure.figsize'] = [12, 9]\n",
    "area_data.plot.line(x='dates',y=['ricoverati_con_sintomi',\n",
    "                                    'terapia_intensiva','totale_ospedalizzati'], \n",
    "                            title=area+\" - Figure 1.2b, stocks, local vertical scale\",\n",
    "                            color=colorDict,lw=1);"
   ]
  },
  {
   "cell_type": "raw",
   "metadata": {},
   "source": [
    "<br/>\n",
    "\n",
    "## Figure 1.3, about a cumulative datum which is comparable over time"
   ]
  },
  {
   "cell_type": "raw",
   "metadata": {},
   "source": [
    "plt.rcParams['figure.figsize'] = [12, 9]\n",
    "area_data.plot.line(x='dates',y=['deceduti'], \n",
    "                            title=area+\" - Figure 1.3, cumulative value, local vertical scale\",\n",
    "                            color=colorDict,lw=1);"
   ]
  },
  {
   "cell_type": "raw",
   "metadata": {},
   "source": [
    "<br/>\n",
    "\n",
    "# Figure 2, trying to make the data comparable  \n",
    "  \n",
    "The data in Figure 1 are the published data, certainly correct ones, but quite problematic if we want to compare the current situation to April. The data in Figure 1 are the published data, undoubtedly correct, but quite complicated if we compare the current situation and April.  \n",
    "  \n",
    "In Fig. 1, we introduce 'casi_da_screening_diff14days' as an approximation of the quarantine simultaneously present cases.  \n",
    "\n",
    "We can consistently correct the cumulative values of 'totale_casi' subtracting 'casi_da_screening', another cumulative value.\n",
    "\n",
    "Nota Bene  \n",
    "The results are not significant for all the regions."
   ]
  },
  {
   "cell_type": "raw",
   "metadata": {},
   "source": [
    "area_data['totale_casi_corr']=area_data['totale_casi'] - \\\n",
    "                                  area_data['casi_da_screening']"
   ]
  },
  {
   "cell_type": "raw",
   "metadata": {},
   "source": [
    "area_data['totale_positivi_corr']=area_data['totale_positivi'] - \\\n",
    "                                  area_data['casi_da_screening_diff14days']"
   ]
  },
  {
   "cell_type": "raw",
   "metadata": {},
   "source": [
    "plt.rcParams['figure.figsize'] = [12, 9]\n",
    "area_data.plot.line(x='dates',    y=['totale_casi','totale_positivi',\n",
    "                                     'totale_casi_corr','totale_positivi_corr'],\n",
    "                    title=area+\" -  - Figure 2, two stocks and two cumulative values;\"+\n",
    "                               \" dashed lines are those of the revised series;\\n\"+\n",
    "                               \"general vertical scale\",\n",
    "                    color=colorDict, lw=1,style=[\"-\",\"-\",\"-.\",\"-.\"],\n",
    "                    ylim=(0,1.05*max(area_data['totale_casi'])));"
   ]
  },
  {
   "cell_type": "raw",
   "metadata": {},
   "source": [
    "# delay in diff\n",
    "d=5\n",
    "# final segment of length \n",
    "s=30"
   ]
  },
  {
   "cell_type": "raw",
   "metadata": {},
   "source": [
    "<br/>\n",
    "\n",
    "## Figure 2.1, first differeces, with delay \"d\", of the series of Figure 2\n",
    "    \n",
    "The original series increases if these values are positive, more (highly positive), or less quickly.  \n",
    "The original series decreases if these values are negative, more (highly negative), or less quickly."
   ]
  },
  {
   "cell_type": "raw",
   "metadata": {},
   "source": [
    "area_data['totale_casiD']=area_data.totale_casi.diff(d)\n",
    "area_data['totale_positiviD']=area_data.totale_positivi.diff(d)\n",
    "area_data['totale_casi_corrD']=area_data.totale_casi_corr.diff(d)\n",
    "area_data['totale_positivi_corrD']=area_data.totale_positivi_corr.diff(d)\n",
    "\n",
    "area_data['totale_casiDD']=area_data.totale_casiD.diff()\n",
    "area_data['totale_positiviDD']=area_data.totale_positiviD.diff()\n",
    "area_data['totale_casi_corrDD']=area_data.totale_casi_corrD.diff()\n",
    "area_data['totale_positivi_corrDD']=area_data.totale_positivi_corrD.diff()\n",
    "\n",
    "area_data['dates2']=area_data.dates[-s:]"
   ]
  },
  {
   "cell_type": "raw",
   "metadata": {},
   "source": [
    "plt.rcParams['figure.figsize'] = [12, 9]\n",
    "ax=area_data.plot.line(x='dates2',    y=['totale_casiD','totale_positiviD',\n",
    "                                     'totale_casi_corrD','totale_positivi_corrD'],\n",
    "                            title=area+\" - Figure 2.1, first differences with delay 'd' - \\n\"+\n",
    "                            \"two stocks and two cumulative values;\"+\n",
    "                            \" dashdot lines are those of the revised series;\\n\"+\n",
    "                            \"local vertical scale\",\n",
    "                            color=colorDict, lw=1,style=[\"-\",\"-\",\"-.\",\"-.\"])\n",
    "ax.axhline(y=0);"
   ]
  },
  {
   "cell_type": "raw",
   "metadata": {},
   "source": [
    "<br/>\n",
    "\n",
    "## Figure 2.2, second differences, as first differences with delay \"1\", of the first differences with delay '1', of the series of Figure 2\n",
    "  \n",
    "Changes in the original series accelerate if these values are positive, more (highly positive), or less quickly.  \n",
    "Changes in the original series decelerate if these values are negative, more (highly negative), or less quickly."
   ]
  },
  {
   "cell_type": "raw",
   "metadata": {},
   "source": [
    "plt.rcParams['figure.figsize'] = [12, 9]\n",
    "ax=area_data.plot.line(x='dates2',    y=['totale_casiDD','totale_positiviDD',\n",
    "                                     'totale_casi_corrDD','totale_positivi_corrDD'],\n",
    "                            title=area+\" - Figure 2.2, second differences, as first differences\"+\n",
    "                            \" with delay '1', of the first differences with delay 'd'\\n\"+\n",
    "                            \"two stocks and two cumulative values;\"+\n",
    "                            \" dashdot lines are those of the revised series;\\n\"+\n",
    "                            \"local vertical scale\",\n",
    "                            color=colorDict, lw=1,style=[\"-\",\"-\",\"-.\",\"-.\"])\n",
    "ax.axhline(y=0);"
   ]
  },
  {
   "cell_type": "raw",
   "metadata": {},
   "source": [
    "<br/>\n",
    "\n",
    "# Figure 3, showing 'tamponi' and 'casi_testati' with 'totale_casi' and 'casi_da_screening' (cumulative values)"
   ]
  },
  {
   "cell_type": "raw",
   "metadata": {},
   "source": [
    "plt.rcParams['figure.figsize'] = [12, 9]\n",
    "area_data.plot(x='dates',y=['tamponi', 'casi_testati',\n",
    "                            'totale_casi','casi_da_screening'],\n",
    "                  color=colorDict,lw=1,\n",
    "                  title=area+\" - Figure 3, four cumulative values; local vertical scale\");"
   ]
  },
  {
   "cell_type": "raw",
   "metadata": {},
   "source": [
    "<br/>\n",
    "  \n",
    "# Ratios 'casi_da_screening' / 'casi_testati', with a delay  \n",
    "  \n",
    "We have: \n",
    "  \n",
    "    - a description of the values of the last 20 days;\n",
    "    \n",
    "    - daily ratios in a given set of delays;\n",
    "    \n",
    "    - a graphical representation with delay 10 or 5."
   ]
  },
  {
   "cell_type": "raw",
   "metadata": {},
   "source": [
    "area_data[-20:][['dates','casi_da_screening','tamponi', \n",
    "                 'casi_testati']].describe().iloc[[1,2,3,7],[0,1,2]]"
   ]
  },
  {
   "cell_type": "raw",
   "metadata": {},
   "source": [
    "mean_casi_da_screening=area_data[-20:][['dates','casi_da_screening','tamponi', \n",
    "                 'casi_testati']].describe().iloc[[1],[0]].values[0][0]"
   ]
  },
  {
   "cell_type": "raw",
   "metadata": {},
   "source": [
    "mean_casi_testati=area_data[-20:][['dates','casi_da_screening','tamponi', \n",
    "                 'casi_testati']].describe().iloc[[1],[2]].values[0][0]"
   ]
  },
  {
   "cell_type": "raw",
   "metadata": {},
   "source": [
    "format=\"\\nLast 20 days ratio (ending %.10s) 'casi_da_screening' (20 days mean) \"+\\\n",
    "        \"/ \\n'casi_testati' (20 days mean):\\n\\n %.2f%%\"\n",
    "print(format %\n",
    "(area_data[-1:][['dates']].values[0][0],  100 * mean_casi_da_screening / mean_casi_testati) )"
   ]
  },
  {
   "cell_type": "raw",
   "metadata": {},
   "source": [
    "for delay in range (10,4,-1):\n",
    "    print(area+\" - Ratio 'casi_da_screening' %.10s / 'casi_testati' %.10s: %.2f%%\" %\n",
    "      (area_data[-1:][['dates']].values[0][0],\n",
    "       area_data[-1-delay:-delay][['dates']].values[0][0],\n",
    "       100*area_data[-1:][['casi_da_screening']].values[0][0] / \\\n",
    "    area_data[-1-delay:-delay][['casi_testati']].values[0][0]))"
   ]
  },
  {
   "cell_type": "raw",
   "metadata": {},
   "source": [
    "for delay in [10,5]:\n",
    "    area_data['ratios - '+str(delay)]=100*area_data['casi_da_screening'] / \\\n",
    "    area_data['casi_testati'].shift(delay)\n",
    "\n",
    "area_data.plot(x='dates',y=['ratios - '+str(10),'ratios - '+str(5)], \n",
    "    title=area+\" - Figure 4, ratios (%) with shift = delay\");"
   ]
  }
 ],
 "metadata": {
  "kernelspec": {
   "display_name": "Python 3",
   "language": "python",
   "name": "python3"
  },
  "language_info": {
   "codemirror_mode": {
    "name": "ipython",
    "version": 3
   },
   "file_extension": ".py",
   "mimetype": "text/x-python",
   "name": "python",
   "nbconvert_exporter": "python",
   "pygments_lexer": "ipython3",
   "version": "3.8.6"
  }
 },
 "nbformat": 4,
 "nbformat_minor": 2
}
