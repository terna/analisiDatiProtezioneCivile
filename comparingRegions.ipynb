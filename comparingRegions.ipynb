{
 "cells": [
  {
   "cell_type": "markdown",
   "metadata": {},
   "source": [
    "base of the data https://github.com/pcm-dpc/COVID-19\n",
    "\n",
    "definitions https://github.com/pcm-dpc/COVID-19/blob/master/dati-andamento-covid19-italia.md#dati-per-regione"
   ]
  },
  {
   "cell_type": "markdown",
   "metadata": {},
   "source": [
    "<br/>\n",
    "\n",
    "# Definitions\n",
    "**from the [Protezione Civile](https://github.com/pcm-dpc/COVID-19/blob/master/dati-andamento-covid19-italia.md#dati-per-regione) web site [in square brakets my addenda]**,\n",
    "     \n",
    "**<span style=\"color: red;\">Legenda</span>**  about stocks and flows:  \n",
    "    - stock($t$), quantity of day $t$;  \n",
    "    - flow$[t_1,t_2]$, sum of the quantities from day $t_1$ to day $t_2$,  \n",
    "with $[t_1,t_2]=\\{x \\in \\mathbb{R}|t_1 \\leq x \\leq t_2\\}$\n",
    "\n",
    "   \n",
    "**ricoverati_con_sintomi <span style=\"color: red;\">[stock(t)]</span>**  \n",
    "Ricoverati con sintomi | Hospitalised patients with symptoms  \n",
    "\n",
    "**terapia_intensiva <span style=\"color: red;\">[stock(t)]</span>**  \n",
    "Ricoverati in terapia intensiva\t| Intensive Care  \n",
    "  \n",
    "**totale_ospedalizzati <span style=\"color: red;\">[stock(t)]</span>**  \n",
    "Totale ospedalizzati | Total hospitalised patients  \n",
    "  \n",
    "**isolamento_domiciliare <span style=\"color: red;\">[stock(t)]</span>**  \n",
    "Persone in isolamento domiciliare | Home confinement  \n",
    "  \n",
    "**totale_positivi <span style=\"color: red;\">[stock(t)]</span>**  \n",
    "Totale attualmente positivi (ospedalizzati + isolamento domiciliare) | Total amount of current positive cases (Hospitalised patients + Home confinement)  \n",
    "  \n",
    "**variazione_totale_positivi <span style=\"color: red;\">[first difference of totale_positivi  (stock(t) - stock(t-1)]</span>**  \n",
    "Variazione del totale positivi (totale_positivi giorno corrente - totale_positivi giorno precedente) | News amount of current positive cases (totale_positivi current day - totale_positivi previous day)  \n",
    "  \n",
    "**nuovi_positivi <span style=\"color: red;\">[first difference of totale_casi flow (flow[1,t] - flow[1,t-1], i.e., stock[t]]</span>**  \n",
    "Nuovi attualmente positivi (totale_casi giorno corrente - totale_casi giorno precedente) | News amount of current positive cases (totale_casi current day - totale_casi previous day)  \n",
    "  \n",
    "**dimessi_guariti <span style=\"color: red;\">[flow[1,t]]</span>**  \n",
    "Persone dimesse guarite | Recovered  \n",
    "  \n",
    "**deceduti <span style=\"color: red;\">[flow[1,t]]</span>**  \n",
    "Persone decedute | Death  \n",
    "  \n",
    "**casi_da_sospetto_diagnostico <span style=\"color: red;\">[flow[1,t]]</span>**  \n",
    "Casi positivi al tampone emersi da attività clinica | Positive cases emerged from clinical activity  \n",
    "  \n",
    "**casi_da_screening <span style=\"color: red;\">[flow[1,t]]</span>**  \n",
    "Casi positivi emersi da indagini e test, pianificati a livello nazionale o regionale | Positive cases emerging from surveys and tests, planned at national or regional level  \n",
    "  \n",
    "**totale_casi <span style=\"color: red;\">[flow[1,t]]</span>**  \n",
    "Totale casi positivi | Total amount of positive cases  \n",
    "  \n",
    "**tamponi <span style=\"color: red;\">[flow[1,t]]</span>**  \n",
    "Totale tamponi - Tests performed  \n",
    "  \n",
    "**casi_testati <span style=\"color: red;\">[flow[1,t]]</span>**  \n",
    "Totale dei soggetti sottoposti al test | Total number of people tested    \n",
    "  \n",
    "  \n",
    "\n",
    "summing stocks to produce a stock  \n",
    "totale_positivi(t) **<span style=\"color: red\">=</span>** ricoverati_con_sintomi(t) + terapia_intensiva(t) + isolamento_domiciliare(t)  \n",
    "  \n",
    "summing a stock and two flows to pruduce a flow (the stock acts as an addendum)  \n",
    "totale_casi[1,t] **<span style=\"color: red\">=</span>** totale_positivi(t) + dimessi_guariti[1,t] + deceduti[1,t] \n",
    "  \n",
    "summing two flows to produce a flow  \n",
    "totale_casi[1,t] **<span style=\"color: red\">=</span>** casi_da_sospetto_diagnostico[1,t] + casi_da_screening[1,t]    "
   ]
  },
  {
   "cell_type": "code",
   "execution_count": null,
   "metadata": {},
   "outputs": [],
   "source": [
    "import pandas as pd\n",
    "import matplotlib.pyplot as plt\n",
    "from datetime import datetime\n",
    "\n",
    "regions=[\"Abruzzo\", \"Basilicata\", \"Calabria\", \"Campania\", \"Emilia-Romagna\", \n",
    "         \"Friuli Venezia Giulia\", \"Lazio\", \"Liguria\", \"Lombardia\", \"Marche\", \n",
    "         \"Molise\", \"P.A. Bolzano\", \"P.A. Trento\", \"Piemonte\", \"Puglia\", \"Sardegna\",\n",
    "         \"Sicilia\", \"Toscana\", \"Umbria\", \"Valle d'Aosta\", \"Veneto\"]\n",
    "\n",
    "def parse_date(date):\n",
    "    return datetime.strptime(date[:10], '%Y-%m-%d')\n",
    "\n",
    "regional_data = pd.read_csv(\n",
    "    'https://raw.githubusercontent.com/pcm-dpc/COVID-19/master/dati-regioni/dpc-covid19-ita-regioni.csv',\n",
    "    parse_dates=['data'],\n",
    "    date_parser=parse_date)\n",
    "\n",
    "regional_data=regional_data.rename(columns = {'data': 'dates'},inplace = False)\n",
    "\n",
    "relevant_columns=['dates','ricoverati_con_sintomi','terapia_intensiva',\n",
    "       'totale_ospedalizzati', 'isolamento_domiciliare', 'totale_positivi',\n",
    "       'variazione_totale_positivi', 'nuovi_positivi', 'dimessi_guariti',\n",
    "       'deceduti', 'casi_da_sospetto_diagnostico', 'casi_da_screening',\n",
    "       'totale_casi', 'tamponi', 'casi_testati'];\n",
    "\n",
    "# http://dati.istat.it/Index.aspx?DataSetCode=DCIS_POPRES1 (20200101)\n",
    "population = [1305770, 556934, 1924701, 5785861, 4467118, \n",
    "              1211357, 5865544, 1543127, 10103969, 1518400, \n",
    "              302265, 532080, 542739, 4341375, 4008296, 1630474, \n",
    "              4968410, 3722729, 880285, 125501, 4907704]\n",
    "\n",
    "# https://matplotlib.org/3.1.0/gallery/color/named_colors.html\n",
    "colors=['b','g','r','c','m','y','k']\n",
    "styles=[\"-\",\"-\",\"-\",\"-\",\"-\",\"-\",\"-\",\n",
    "       \"--\",\"--\",\"--\",\"--\",\"--\",\"--\",\"--\",\n",
    "       \":\",\":\",\":\",\":\",\":\",\":\",\":\"]\n",
    "# line thickness\n",
    "lw0=2\n",
    "regional_data.columns"
   ]
  },
  {
   "cell_type": "code",
   "execution_count": null,
   "metadata": {},
   "outputs": [],
   "source": [
    "import numpy as np # replacing 0 values with nan from 20201203 in the cols below\n",
    "regional_data['casi_da_sospetto_diagnostico'].replace(0,np.nan,inplace=True)\n",
    "regional_data['casi_da_screening'].replace(0,np.nan,inplace=True)"
   ]
  },
  {
   "cell_type": "code",
   "execution_count": null,
   "metadata": {},
   "outputs": [],
   "source": [
    "# starting point of the series: 0 for the first day; -20 fot the last 20 days, etc.\n",
    "s=0 # s=-20"
   ]
  },
  {
   "cell_type": "code",
   "execution_count": null,
   "metadata": {},
   "outputs": [],
   "source": [
    "regional_data_totale_positivi_raw=pd.DataFrame()\n",
    "regional_data_totale_positivi_ratePop=pd.DataFrame()\n",
    "regional_data_totale_casi_raw=pd.DataFrame()\n",
    "regional_data_totale_casi_ratePop=pd.DataFrame()\n",
    "regional_data_deceduti_raw=pd.DataFrame()\n",
    "regional_data_deceduti_ratePop=pd.DataFrame()\n",
    "regional_data_terapia_intensiva_raw=pd.DataFrame()\n",
    "regional_data_terapia_intensiva_ratePop=pd.DataFrame()\n",
    "regional_data_casi_da_screening_raw=pd.DataFrame()\n",
    "regional_data_casi_da_screening_ratePop=pd.DataFrame()"
   ]
  },
  {
   "cell_type": "code",
   "execution_count": null,
   "metadata": {},
   "outputs": [],
   "source": [
    "#dates from the first region subset\n",
    "regional_data_totale_positivi_raw['dates']= \\\n",
    "                 regional_data[regional_data.denominazione_regione==regions[0]][s:] \\\n",
    "                 ['dates'].values\n",
    "regional_data_totale_positivi_ratePop['dates']= \\\n",
    "                 regional_data[regional_data.denominazione_regione==regions[0]][s:] \\\n",
    "                 ['dates'].values\n",
    "regional_data_totale_casi_raw['dates']= \\\n",
    "                 regional_data[regional_data.denominazione_regione==regions[0]][s:] \\\n",
    "                 ['dates'].values\n",
    "regional_data_totale_casi_ratePop['dates']= \\\n",
    "                 regional_data[regional_data.denominazione_regione==regions[0]][s:] \\\n",
    "                 ['dates'].values\n",
    "regional_data_deceduti_raw['dates']= \\\n",
    "                 regional_data[regional_data.denominazione_regione==regions[0]][s:] \\\n",
    "                 ['dates'].values\n",
    "regional_data_deceduti_ratePop['dates']= \\\n",
    "                 regional_data[regional_data.denominazione_regione==regions[0]][s:] \\\n",
    "                 ['dates'].values\n",
    "regional_data_terapia_intensiva_raw['dates']= \\\n",
    "                 regional_data[regional_data.denominazione_regione==regions[0]][s:] \\\n",
    "                 ['dates'].values\n",
    "regional_data_terapia_intensiva_ratePop['dates']= \\\n",
    "                 regional_data[regional_data.denominazione_regione==regions[0]][s:] \\\n",
    "                 ['dates'].values\n",
    "regional_data_casi_da_screening_raw['dates']= \\\n",
    "                 regional_data[regional_data.denominazione_regione==regions[0]][s:] \\\n",
    "                 ['dates'].values\n",
    "regional_data_casi_da_screening_ratePop['dates']= \\\n",
    "                 regional_data[regional_data.denominazione_regione==regions[0]][s:] \\\n",
    "                 ['dates'].values"
   ]
  },
  {
   "cell_type": "code",
   "execution_count": null,
   "metadata": {},
   "outputs": [],
   "source": [
    "for k in range(0,21):\n",
    "    regional_data_totale_positivi_raw[regions[k]+' '+'totale_positivi']= \\\n",
    "                 regional_data[regional_data.denominazione_regione==regions[k]][s:] \\\n",
    "                 ['totale_positivi'].values\n",
    "for k in range(0,21):\n",
    "    regional_data_totale_positivi_ratePop[regions[k]+' '+'totale_positivi']= \\\n",
    "                 regional_data[regional_data.denominazione_regione==regions[k]][s:] \\\n",
    "                 ['totale_positivi'].values*(100/population[k])\n",
    "for k in range(0,21):\n",
    "    regional_data_totale_casi_raw[regions[k]+' '+'totale_casi']= \\\n",
    "                 regional_data[regional_data.denominazione_regione==regions[k]][s:] \\\n",
    "                 ['totale_casi'].values\n",
    "for k in range(0,21):\n",
    "    regional_data_totale_casi_ratePop[regions[k]+' '+'totale_casi']= \\\n",
    "                 regional_data[regional_data.denominazione_regione==regions[k]][s:] \\\n",
    "                 ['totale_casi'].values*(100/population[k])\n",
    "for k in range(0,21):\n",
    "    regional_data_deceduti_raw[regions[k]+' '+'deceduti']= \\\n",
    "                 regional_data[regional_data.denominazione_regione==regions[k]][s:] \\\n",
    "                 ['deceduti'].values\n",
    "for k in range(0,21):\n",
    "    regional_data_deceduti_ratePop[regions[k]+' '+'deceduti']= \\\n",
    "                 regional_data[regional_data.denominazione_regione==regions[k]][s:] \\\n",
    "                 ['deceduti'].values*(100/population[k])\n",
    "for k in range(0,21):\n",
    "    regional_data_terapia_intensiva_raw[regions[k]+' '+'terapia_intensiva']= \\\n",
    "                 regional_data[regional_data.denominazione_regione==regions[k]][s:] \\\n",
    "                 ['terapia_intensiva'].values\n",
    "for k in range(0,21):\n",
    "    regional_data_terapia_intensiva_ratePop[regions[k]+' '+'terapia_intensiva']= \\\n",
    "                 regional_data[regional_data.denominazione_regione==regions[k]][s:] \\\n",
    "                 ['terapia_intensiva'].values*(100/population[k])\n",
    "for k in range(0,21):\n",
    "    regional_data_casi_da_screening_raw[regions[k]+' '+'casi_da_screening']= \\\n",
    "                 regional_data[regional_data.denominazione_regione==regions[k]][s:] \\\n",
    "                 ['casi_da_screening'].values\n",
    "for k in range(0,21):\n",
    "    regional_data_casi_da_screening_ratePop[regions[k]+' '+'casi_da_screening']= \\\n",
    "                 regional_data[regional_data.denominazione_regione==regions[k]][s:] \\\n",
    "                 ['casi_da_screening'].values*(100/population[k])"
   ]
  },
  {
   "cell_type": "markdown",
   "metadata": {},
   "source": [
    "### Figure 1"
   ]
  },
  {
   "cell_type": "code",
   "execution_count": null,
   "metadata": {},
   "outputs": [],
   "source": [
    "plt.rcParams['figure.figsize'] = [12, 12]\n",
    "regional_data_totale_positivi_raw.plot.line(x='dates',\n",
    "color=colors,lw=lw0,style=styles,title='Figure 1 - Totale positivi, raw data');"
   ]
  },
  {
   "cell_type": "markdown",
   "metadata": {},
   "source": [
    "### Figure 2a"
   ]
  },
  {
   "cell_type": "code",
   "execution_count": null,
   "metadata": {},
   "outputs": [],
   "source": [
    "plt.rcParams['figure.figsize'] = [12, 12]\n",
    "regional_data_totale_positivi_ratePop.plot.line(x='dates',\n",
    "color=colors,lw=lw0,style=styles,title='Figure 2a - Totale positivi, % population');"
   ]
  },
  {
   "cell_type": "markdown",
   "metadata": {},
   "source": [
    "### Figure 2b"
   ]
  },
  {
   "cell_type": "code",
   "execution_count": null,
   "metadata": {},
   "outputs": [],
   "source": [
    "regional_data_totale_positivi_ratePopD=regional_data_totale_positivi_ratePop\n",
    "cols=regional_data_totale_positivi_ratePopD.columns\n",
    "regional_data_totale_positivi_ratePopD[cols[1:]]= \\\n",
    "regional_data_totale_positivi_ratePopD[cols[1:]].diff(5)"
   ]
  },
  {
   "cell_type": "code",
   "execution_count": null,
   "metadata": {},
   "outputs": [],
   "source": [
    "# The original series increases if these values are positive, more (highly positive), \n",
    "# or less quickly.  \n",
    "\n",
    "#The original series decreases if these values are negative, more (highly negative), \n",
    "# or less quickly.\n",
    "\n",
    "plt.rcParams['figure.figsize'] = [12, 12]\n",
    "regional_data_totale_positivi_ratePopD[-50:].plot.line(x='dates',\n",
    "color=colors,lw=lw0,style=styles,title='Figure 2b - Totale positivi, first differemces (5 days), last 50 days, % population');"
   ]
  },
  {
   "cell_type": "markdown",
   "metadata": {},
   "source": [
    "### Figure 2c"
   ]
  },
  {
   "cell_type": "code",
   "execution_count": null,
   "metadata": {},
   "outputs": [],
   "source": [
    "regional_data_totale_positivi_ratePopDD=regional_data_totale_positivi_ratePopD\n",
    "cols=regional_data_totale_positivi_ratePopDD.columns\n",
    "regional_data_totale_positivi_ratePopDD[cols[1:]]= \\\n",
    "regional_data_totale_positivi_ratePopDD[cols[1:]].diff()"
   ]
  },
  {
   "cell_type": "code",
   "execution_count": null,
   "metadata": {},
   "outputs": [],
   "source": [
    "# Changes in the original series accelerate if these values are positive, \n",
    "# more (highly positive), or less quickly.  \n",
    "\n",
    "# Changes in the original series decelerate if these values are negative, \n",
    "# more (highly negative), or less quickly.\n",
    "\n",
    "plt.rcParams['figure.figsize'] = [12, 12]\n",
    "regional_data_totale_positivi_ratePopDD[-50:].plot.line(x='dates',\n",
    "color=colors,lw=lw0,style=styles,\n",
    "title='Figure 2c - Totale positivi second differences (1 day on previous series), '+\n",
    "      'last 50 days, % population');"
   ]
  },
  {
   "cell_type": "markdown",
   "metadata": {},
   "source": [
    "### Figure 3"
   ]
  },
  {
   "cell_type": "code",
   "execution_count": null,
   "metadata": {},
   "outputs": [],
   "source": [
    "plt.rcParams['figure.figsize'] = [12, 12]\n",
    "regional_data_totale_casi_raw.plot.line(x='dates',\n",
    "color=colors,lw=lw0,style=styles,title='Figure 3 - Totale casi, raw data');"
   ]
  },
  {
   "cell_type": "markdown",
   "metadata": {},
   "source": [
    "### Figure 4"
   ]
  },
  {
   "cell_type": "code",
   "execution_count": null,
   "metadata": {},
   "outputs": [],
   "source": [
    "plt.rcParams['figure.figsize'] = [12, 12]\n",
    "regional_data_totale_casi_ratePop.plot.line(x='dates',\n",
    "color=colors,lw=lw0,style=styles,title='Figure 4 - Totale casi, % population');"
   ]
  },
  {
   "cell_type": "markdown",
   "metadata": {},
   "source": [
    "### Figure 5"
   ]
  },
  {
   "cell_type": "code",
   "execution_count": null,
   "metadata": {},
   "outputs": [],
   "source": [
    "plt.rcParams['figure.figsize'] = [12, 12]\n",
    "regional_data_deceduti_raw.plot.line(x='dates',\n",
    "color=colors,lw=lw0,style=styles,title='Figure 5 - Deceduti, raw data');"
   ]
  },
  {
   "cell_type": "markdown",
   "metadata": {},
   "source": [
    "### Figure 6a"
   ]
  },
  {
   "cell_type": "code",
   "execution_count": null,
   "metadata": {},
   "outputs": [],
   "source": [
    "plt.rcParams['figure.figsize'] = [12, 12]\n",
    "regional_data_deceduti_ratePop.plot.line(x='dates',\n",
    "color=colors,lw=lw0,style=styles,title='Figure 6a - Deceduti, % population');"
   ]
  },
  {
   "cell_type": "markdown",
   "metadata": {},
   "source": [
    "### Figures 6b1, 6b2"
   ]
  },
  {
   "cell_type": "code",
   "execution_count": null,
   "metadata": {},
   "outputs": [],
   "source": [
    "regional_data_deceduti_rateTotale_casi=pd.DataFrame()\n",
    "\n",
    "temp1=regional_data_deceduti_raw.drop('dates',axis=1).diff(14)\n",
    "temp2=regional_data_totale_casi_raw.drop('dates',axis=1).shift(14).diff(14)\n",
    "\n",
    "temp1.columns = range(temp1.shape[1])\n",
    "temp2.columns = range(temp2.shape[1])\n",
    "\n",
    "regional_data_deceduti_rateTotale_casi=100*temp1/temp2\n",
    "\n",
    "#regional_data_deceduti_rateTotale_casi['dates']= \\\n",
    "#                 regional_data[regional_data.denominazione_regione==regions[0]][s:] \\\n",
    "#                 ['dates'].values\n",
    "\n",
    "newColNames=[regions[k]+' '+\"deceduti/totale_casi\" for k in range(0,len(regions))]\n",
    "\n",
    "regional_data_deceduti_rateTotale_casi.columns=newColNames\n",
    "regional_data_deceduti_rateTotale_casiMovAv= \\\n",
    "regional_data_deceduti_rateTotale_casi.rolling(window=5).mean()\n",
    "regional_data_deceduti_rateTotale_casi['dates']= \\\n",
    "                 regional_data[regional_data.denominazione_regione==regions[0]][s:] \\\n",
    "                 ['dates'].values\n",
    "regional_data_deceduti_rateTotale_casiMovAv['dates']= \\\n",
    "                 regional_data[regional_data.denominazione_regione==regions[0]][s:] \\\n",
    "                 ['dates'].values"
   ]
  },
  {
   "cell_type": "code",
   "execution_count": null,
   "metadata": {},
   "outputs": [],
   "source": [
    "plt.rcParams['figure.figsize'] = [12, 12]\n",
    "regional_data_deceduti_rateTotale_casi[-45:].plot.line(x='dates',\n",
    "color=colors,lw=lw0,style=styles,title='Figure 6b1 - deceduti(t) - deceduti(t-14), %\\n'+\n",
    "                                       'totale_casi(t-14) - totale_casi(t-28), last 45 days');"
   ]
  },
  {
   "cell_type": "code",
   "execution_count": null,
   "metadata": {},
   "outputs": [],
   "source": [
    "plt.rcParams['figure.figsize'] = [12, 12]\n",
    "regional_data_deceduti_rateTotale_casi[-45:].plot.line(x='dates',\n",
    "color=colors,lw=lw0,style=styles,title='Figure 6b2 - deceduti(t) - deceduti(t-14), %\\n'+\n",
    "                    'totale_casi(t-14) - totale_casi(t-28), last 45 days, cutting y>5',\n",
    "ylim=(0,5));"
   ]
  },
  {
   "cell_type": "markdown",
   "metadata": {},
   "source": [
    "### Figure 6c1, 6c2"
   ]
  },
  {
   "cell_type": "code",
   "execution_count": null,
   "metadata": {},
   "outputs": [],
   "source": [
    "plt.rcParams['figure.figsize'] = [12, 12]\n",
    "regional_data_deceduti_rateTotale_casiMovAv[-45:].plot.line(x='dates',\n",
    "color=colors,lw=lw0,style=styles,title='Figure 6c1 - deceduti(t) - deceduti(t-14), %\\n'+\n",
    "                        'totale_casi(-14) - totale_casi(-28), last 45 days, moving averages (5 days)');"
   ]
  },
  {
   "cell_type": "code",
   "execution_count": null,
   "metadata": {},
   "outputs": [],
   "source": [
    "plt.rcParams['figure.figsize'] = [12, 12]\n",
    "regional_data_deceduti_rateTotale_casiMovAv[-45:].plot.line(x='dates',\n",
    "color=colors,lw=lw0,style=styles,title='Figure 6c2 - deceduti(t) - deceduti(t-14), %\\n'+\n",
    "    'totale_casi(-14) - totale_casi(-28), last 45 days, moving averages (5 days), cutting y>5',\n",
    "ylim=(0,5));"
   ]
  },
  {
   "cell_type": "markdown",
   "metadata": {},
   "source": [
    "### Figure 7"
   ]
  },
  {
   "cell_type": "code",
   "execution_count": null,
   "metadata": {},
   "outputs": [],
   "source": [
    "plt.rcParams['figure.figsize'] = [12, 12]\n",
    "regional_data_terapia_intensiva_raw.plot.line(x='dates',\n",
    "color=colors,lw=lw0,style=styles,title='Figure 7 - Terapia intensiva, raw data');"
   ]
  },
  {
   "cell_type": "markdown",
   "metadata": {},
   "source": [
    "### Figure 8"
   ]
  },
  {
   "cell_type": "code",
   "execution_count": null,
   "metadata": {},
   "outputs": [],
   "source": [
    "plt.rcParams['figure.figsize'] = [12, 12]\n",
    "regional_data_terapia_intensiva_ratePop.plot.line(x='dates',\n",
    "color=colors,lw=lw0,style=styles,title='Figure 8 - Terapia intensiva, % population');"
   ]
  },
  {
   "cell_type": "markdown",
   "metadata": {},
   "source": [
    "### Figure 9"
   ]
  },
  {
   "cell_type": "code",
   "execution_count": null,
   "metadata": {},
   "outputs": [],
   "source": [
    "plt.rcParams['figure.figsize'] = [12, 12]\n",
    "regional_data_casi_da_screening_raw.plot.line(x='dates',\n",
    "color=colors,lw=lw0,style=styles,title='Figure 9 - Casi da screening, raw data');"
   ]
  },
  {
   "cell_type": "markdown",
   "metadata": {},
   "source": [
    "### Figure 10"
   ]
  },
  {
   "cell_type": "code",
   "execution_count": null,
   "metadata": {},
   "outputs": [],
   "source": [
    "plt.rcParams['figure.figsize'] = [12, 12]\n",
    "regional_data_casi_da_screening_ratePop.plot.line(x='dates',\n",
    "color=colors,lw=lw0,style=styles,title='Figure 10 - Casi da screening, % population');"
   ]
  }
 ],
 "metadata": {
  "kernelspec": {
   "display_name": "Python 3 (ipykernel)",
   "language": "python",
   "name": "python3"
  },
  "language_info": {
   "codemirror_mode": {
    "name": "ipython",
    "version": 3
   },
   "file_extension": ".py",
   "mimetype": "text/x-python",
   "name": "python",
   "nbconvert_exporter": "python",
   "pygments_lexer": "ipython3",
   "version": "3.9.7"
  }
 },
 "nbformat": 4,
 "nbformat_minor": 4
}
